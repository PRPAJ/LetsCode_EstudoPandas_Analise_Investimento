{
  "cells": [
    {
      "cell_type": "markdown",
      "id": "8030d55b",
      "metadata": {
        "id": "8030d55b"
      },
      "source": [
        "# Projeto Técnicas de programação I\n",
        "\n",
        "## Análise exploratória de dados/Pandas\n",
        "\n",
        "Nomes: Paulo Roberto P. Alves\n",
        "\n",
        "Turma: 892\n"
      ]
    },
    {
      "cell_type": "markdown",
      "id": "9d476103",
      "metadata": {
        "id": "9d476103"
      },
      "source": [
        "Nesse projeto trabalharemos com dados fictícios de investidores.\n",
        "\n"
      ]
    },
    {
      "cell_type": "markdown",
      "id": "ff348160",
      "metadata": {
        "id": "ff348160"
      },
      "source": [
        "Informações\n",
        "\n",
        "Cadastro:\n",
        "- **id** : Identificação do investidor\n",
        "- **Nome** : Nome completo do investidor \n",
        "- **Sexo** : Feminino ou masculino\n",
        "- **Nasc** : Data de nascimento\n",
        "- **Idade** : Idade do investidor \n",
        "- **Email** : E-mail do investidor\n",
        "- **Lat_long** : Dados geográficos do investidor\n",
        "- **Job** : Profisão do investidor ou do seu responsável (em inglês)\n",
        "- **Estado** : Estado onde o investidor reside\n",
        "\n",
        "Investimento:\n",
        "- **id** : Identificação do investidor\n",
        "- **Salario** : Renda do investidor ou seu responsável\n",
        "- **Perfil** : Perfil de investimento\n",
        "- **Ativo01, Ativo02, Ativo03, Ativo04, Ativo05, Ativo06, Ativo07** : O quanto de dinheiro o investidor colocou em cada ativo\n",
        "- **Nota1, Nota2** : O quanto o investidor está satisfeito com nossa empresa (2 avaliações)\n",
        "\n",
        "Lembrando que esses dados são irreais e fictícios\n"
      ]
    },
    {
      "cell_type": "markdown",
      "id": "2c93ad4b",
      "metadata": {
        "id": "2c93ad4b"
      },
      "source": []
    },
    {
      "cell_type": "markdown",
      "id": "ebdf2a14",
      "metadata": {
        "id": "ebdf2a14"
      },
      "source": [
        "### Critérios de avaliação\n",
        "\n",
        "Os seguintes itens serão avaliados:\n",
        "\n",
        "1. Reprodutibilidade do código: seu código será executado e precisa gerar os mesmos resultados apresentados por você;\n",
        "\n",
        "2. Clareza: seu código precisa ser claro e deve existir uma linha de raciocínio direta. Comente o código em pontos que julgar necessário para o entendimento total;\n",
        "\n",
        "3. Explicação de todos os processos feitos e decisões tomadas\n",
        "\n",
        "\n",
        "\n",
        "\n",
        "\n"
      ]
    },
    {
      "cell_type": "markdown",
      "id": "4ceb5d96",
      "metadata": {
        "id": "4ceb5d96"
      },
      "source": [
        "## 1 - Carregar os arquivos e cadastro, investimento1 e investimento2 e mostrar a quantidade de linhas de cada um, além das informações desses dataframes"
      ]
    },
    {
      "cell_type": "code",
      "execution_count": 8,
      "id": "61c059ab",
      "metadata": {
        "ExecuteTime": {
          "end_time": "2021-08-16T13:30:14.809532Z",
          "start_time": "2021-08-16T13:30:14.801117Z"
        },
        "id": "61c059ab"
      },
      "outputs": [],
      "source": [
        "import pandas as pd\n",
        "import datetime as dt\n"
      ]
    },
    {
      "cell_type": "markdown",
      "id": "gv50Ge9nPZyO",
      "metadata": {
        "id": "gv50Ge9nPZyO"
      },
      "source": [
        "###Verificando Informações sobre o arquivo Cadastro"
      ]
    },
    {
      "cell_type": "code",
      "execution_count": 9,
      "id": "PodC8sAK-5Cu",
      "metadata": {
        "colab": {
          "base_uri": "https://localhost:8080/"
        },
        "id": "PodC8sAK-5Cu",
        "outputId": "256a5ec1-868d-4863-b1ba-a75f5975cc0a"
      },
      "outputs": [
        {
          "name": "stdout",
          "output_type": "stream",
          "text": [
            "Quantidade de linhas do arquivo Cadastro: 38754\n"
          ]
        }
      ],
      "source": [
        "#verificando quantidade de linhas do arquivo Cadastro\n",
        "df_cadastro = pd.read_csv('cadastro.csv')\n",
        "print(f'Quantidade de linhas do arquivo Cadastro: {df_cadastro.shape[0]}')"
      ]
    },
    {
      "cell_type": "code",
      "execution_count": 10,
      "id": "1K7z-TPfMm3V",
      "metadata": {
        "colab": {
          "base_uri": "https://localhost:8080/"
        },
        "id": "1K7z-TPfMm3V",
        "outputId": "81c76c0a-b979-414b-c3a5-7d2044f93982"
      },
      "outputs": [
        {
          "name": "stdout",
          "output_type": "stream",
          "text": [
            "Tipo de informações - Arquivo Cadastro: \n",
            "\n",
            "id          object\n",
            "Nome        object\n",
            "Sexo        object\n",
            "Nasc        object\n",
            "Idade        int64\n",
            "Email       object\n",
            "Lat_long    object\n",
            "Job         object\n",
            "Estado      object\n",
            "dtype: object\n"
          ]
        }
      ],
      "source": [
        "#verificando o tipo de informações do arquivo cadastro\n",
        "print('Tipo de informações - Arquivo Cadastro: \\n')\n",
        "print(df_cadastro.dtypes)\n"
      ]
    },
    {
      "cell_type": "code",
      "execution_count": 11,
      "id": "965Abm6dNYpb",
      "metadata": {
        "colab": {
          "base_uri": "https://localhost:8080/",
          "height": 0
        },
        "id": "965Abm6dNYpb",
        "outputId": "a820919c-46ce-4785-9a1e-8690bb7e2beb"
      },
      "outputs": [
        {
          "data": {
            "text/html": [
              "<div>\n",
              "<style scoped>\n",
              "    .dataframe tbody tr th:only-of-type {\n",
              "        vertical-align: middle;\n",
              "    }\n",
              "\n",
              "    .dataframe tbody tr th {\n",
              "        vertical-align: top;\n",
              "    }\n",
              "\n",
              "    .dataframe thead th {\n",
              "        text-align: right;\n",
              "    }\n",
              "</style>\n",
              "<table border=\"1\" class=\"dataframe\">\n",
              "  <thead>\n",
              "    <tr style=\"text-align: right;\">\n",
              "      <th></th>\n",
              "      <th>id</th>\n",
              "      <th>Nome</th>\n",
              "      <th>Sexo</th>\n",
              "      <th>Nasc</th>\n",
              "      <th>Idade</th>\n",
              "      <th>Email</th>\n",
              "      <th>Lat_long</th>\n",
              "      <th>Job</th>\n",
              "      <th>Estado</th>\n",
              "    </tr>\n",
              "  </thead>\n",
              "  <tbody>\n",
              "    <tr>\n",
              "      <th>0</th>\n",
              "      <td>id0000001</td>\n",
              "      <td>Eunice Hellen do Vale</td>\n",
              "      <td>Fem</td>\n",
              "      <td>1970-11-12</td>\n",
              "      <td>51</td>\n",
              "      <td>djones@yahoo.com</td>\n",
              "      <td>(Decimal('24.7024355'), Decimal('-28.038258'))</td>\n",
              "      <td>Technical author</td>\n",
              "      <td>TO</td>\n",
              "    </tr>\n",
              "    <tr>\n",
              "      <th>1</th>\n",
              "      <td>id0000002</td>\n",
              "      <td>Sebastião Castelo Branco Júnior</td>\n",
              "      <td>Masc</td>\n",
              "      <td>2019-12-10</td>\n",
              "      <td>2</td>\n",
              "      <td>barnesandrea@yahoo.com</td>\n",
              "      <td>(Decimal('21.8589875'), Decimal('122.830566'))</td>\n",
              "      <td>Biochemist, clinical</td>\n",
              "      <td>DF</td>\n",
              "    </tr>\n",
              "  </tbody>\n",
              "</table>\n",
              "</div>"
            ],
            "text/plain": [
              "          id                             Nome  Sexo        Nasc  Idade  \\\n",
              "0  id0000001            Eunice Hellen do Vale   Fem  1970-11-12     51   \n",
              "1  id0000002  Sebastião Castelo Branco Júnior  Masc  2019-12-10      2   \n",
              "\n",
              "                    Email                                        Lat_long  \\\n",
              "0        djones@yahoo.com  (Decimal('24.7024355'), Decimal('-28.038258'))   \n",
              "1  barnesandrea@yahoo.com  (Decimal('21.8589875'), Decimal('122.830566'))   \n",
              "\n",
              "                    Job Estado  \n",
              "0      Technical author     TO  \n",
              "1  Biochemist, clinical     DF  "
            ]
          },
          "execution_count": 11,
          "metadata": {},
          "output_type": "execute_result"
        }
      ],
      "source": [
        "df_cadastro.head(2)"
      ]
    },
    {
      "cell_type": "markdown",
      "id": "iJBE7F9XPjWL",
      "metadata": {
        "id": "iJBE7F9XPjWL"
      },
      "source": [
        "###Verificando informações sobre o arquivo investimento_parte1"
      ]
    },
    {
      "cell_type": "code",
      "execution_count": 12,
      "id": "n0QKlpDSPqSv",
      "metadata": {
        "colab": {
          "base_uri": "https://localhost:8080/"
        },
        "id": "n0QKlpDSPqSv",
        "outputId": "e6dc8e84-2f92-47e8-d906-67e96d337e08"
      },
      "outputs": [
        {
          "name": "stdout",
          "output_type": "stream",
          "text": [
            "Quantidade de linhas do arquivo investimento parte 1: 20000\n"
          ]
        }
      ],
      "source": [
        "#Verificando quantidade de linhas do arquivo investimentos parte 1 \n",
        "df_investimento1 = pd.read_csv('investimento_parte1.csv')\n",
        "print(f'Quantidade de linhas do arquivo investimento parte 1: {df_investimento1.shape[0]}')"
      ]
    },
    {
      "cell_type": "code",
      "execution_count": 13,
      "id": "P1lMTvcyP1cH",
      "metadata": {
        "colab": {
          "base_uri": "https://localhost:8080/"
        },
        "id": "P1lMTvcyP1cH",
        "outputId": "ef53116b-b66e-4483-c360-1dd1e359cf75"
      },
      "outputs": [
        {
          "name": "stdout",
          "output_type": "stream",
          "text": [
            "Tipo de informações - Arquivo investimento_parte1: \n",
            "\n",
            "id          object\n",
            "Salario     object\n",
            "Perfil      object\n",
            "Ativo01    float64\n",
            "Ativo02    float64\n",
            "Ativo03    float64\n",
            "Ativo04    float64\n",
            "Ativo05    float64\n",
            "Ativo06    float64\n",
            "Ativo07    float64\n",
            "Nota1      float64\n",
            "Nota2      float64\n",
            "dtype: object\n"
          ]
        }
      ],
      "source": [
        "#verificando o tipo de informações do arquivo investimento parte1\n",
        "print('Tipo de informações - Arquivo investimento_parte1: \\n')\n",
        "print(df_investimento1.dtypes)"
      ]
    },
    {
      "cell_type": "code",
      "execution_count": 14,
      "id": "h9VEfeFWQAi0",
      "metadata": {
        "colab": {
          "base_uri": "https://localhost:8080/",
          "height": 0
        },
        "id": "h9VEfeFWQAi0",
        "outputId": "62994067-b10e-4624-8e7a-081567ecc185"
      },
      "outputs": [
        {
          "data": {
            "text/html": [
              "<div>\n",
              "<style scoped>\n",
              "    .dataframe tbody tr th:only-of-type {\n",
              "        vertical-align: middle;\n",
              "    }\n",
              "\n",
              "    .dataframe tbody tr th {\n",
              "        vertical-align: top;\n",
              "    }\n",
              "\n",
              "    .dataframe thead th {\n",
              "        text-align: right;\n",
              "    }\n",
              "</style>\n",
              "<table border=\"1\" class=\"dataframe\">\n",
              "  <thead>\n",
              "    <tr style=\"text-align: right;\">\n",
              "      <th></th>\n",
              "      <th>id</th>\n",
              "      <th>Salario</th>\n",
              "      <th>Perfil</th>\n",
              "      <th>Ativo01</th>\n",
              "      <th>Ativo02</th>\n",
              "      <th>Ativo03</th>\n",
              "      <th>Ativo04</th>\n",
              "      <th>Ativo05</th>\n",
              "      <th>Ativo06</th>\n",
              "      <th>Ativo07</th>\n",
              "      <th>Nota1</th>\n",
              "      <th>Nota2</th>\n",
              "    </tr>\n",
              "  </thead>\n",
              "  <tbody>\n",
              "    <tr>\n",
              "      <th>0</th>\n",
              "      <td>id0011529</td>\n",
              "      <td>$2.25</td>\n",
              "      <td>Agressivo</td>\n",
              "      <td>1311.38</td>\n",
              "      <td>NaN</td>\n",
              "      <td>NaN</td>\n",
              "      <td>29267.48</td>\n",
              "      <td>4993.30</td>\n",
              "      <td>NaN</td>\n",
              "      <td>506.40</td>\n",
              "      <td>73.007216</td>\n",
              "      <td>30.025005</td>\n",
              "    </tr>\n",
              "    <tr>\n",
              "      <th>1</th>\n",
              "      <td>id0030644</td>\n",
              "      <td>$24.57</td>\n",
              "      <td>Agressivo</td>\n",
              "      <td>1007.38</td>\n",
              "      <td>4846.66</td>\n",
              "      <td>2717.82</td>\n",
              "      <td>12532.15</td>\n",
              "      <td>4282.98</td>\n",
              "      <td>NaN</td>\n",
              "      <td>499.93</td>\n",
              "      <td>20.000123</td>\n",
              "      <td>29.477728</td>\n",
              "    </tr>\n",
              "    <tr>\n",
              "      <th>2</th>\n",
              "      <td>id0019311</td>\n",
              "      <td>$367.53</td>\n",
              "      <td>Moderado</td>\n",
              "      <td>1128.99</td>\n",
              "      <td>4668.94</td>\n",
              "      <td>3092.60</td>\n",
              "      <td>9777.77</td>\n",
              "      <td>4246.30</td>\n",
              "      <td>2007.83</td>\n",
              "      <td>509.50</td>\n",
              "      <td>24.901450</td>\n",
              "      <td>49.659852</td>\n",
              "    </tr>\n",
              "    <tr>\n",
              "      <th>3</th>\n",
              "      <td>id0036705</td>\n",
              "      <td>$23.26</td>\n",
              "      <td>Moderado</td>\n",
              "      <td>1185.26</td>\n",
              "      <td>4782.17</td>\n",
              "      <td>2669.05</td>\n",
              "      <td>14047.87</td>\n",
              "      <td>6026.84</td>\n",
              "      <td>2064.09</td>\n",
              "      <td>489.82</td>\n",
              "      <td>14.246718</td>\n",
              "      <td>29.271206</td>\n",
              "    </tr>\n",
              "    <tr>\n",
              "      <th>4</th>\n",
              "      <td>id0001368</td>\n",
              "      <td>$6.31</td>\n",
              "      <td>Conservador</td>\n",
              "      <td>957.64</td>\n",
              "      <td>5585.52</td>\n",
              "      <td>NaN</td>\n",
              "      <td>5067.08</td>\n",
              "      <td>4030.51</td>\n",
              "      <td>2022.61</td>\n",
              "      <td>507.39</td>\n",
              "      <td>5.922253</td>\n",
              "      <td>11.840601</td>\n",
              "    </tr>\n",
              "    <tr>\n",
              "      <th>...</th>\n",
              "      <td>...</td>\n",
              "      <td>...</td>\n",
              "      <td>...</td>\n",
              "      <td>...</td>\n",
              "      <td>...</td>\n",
              "      <td>...</td>\n",
              "      <td>...</td>\n",
              "      <td>...</td>\n",
              "      <td>...</td>\n",
              "      <td>...</td>\n",
              "      <td>...</td>\n",
              "      <td>...</td>\n",
              "    </tr>\n",
              "    <tr>\n",
              "      <th>19995</th>\n",
              "      <td>id0027243</td>\n",
              "      <td>$334.62</td>\n",
              "      <td>Conservador</td>\n",
              "      <td>1406.60</td>\n",
              "      <td>5314.55</td>\n",
              "      <td>3166.72</td>\n",
              "      <td>22356.01</td>\n",
              "      <td>4993.03</td>\n",
              "      <td>NaN</td>\n",
              "      <td>508.21</td>\n",
              "      <td>NaN</td>\n",
              "      <td>81.009106</td>\n",
              "    </tr>\n",
              "    <tr>\n",
              "      <th>19996</th>\n",
              "      <td>id0027322</td>\n",
              "      <td>$281.18</td>\n",
              "      <td>Agressivo</td>\n",
              "      <td>857.37</td>\n",
              "      <td>6045.98</td>\n",
              "      <td>3052.01</td>\n",
              "      <td>11084.71</td>\n",
              "      <td>4678.42</td>\n",
              "      <td>NaN</td>\n",
              "      <td>506.94</td>\n",
              "      <td>48.641983</td>\n",
              "      <td>NaN</td>\n",
              "    </tr>\n",
              "    <tr>\n",
              "      <th>19997</th>\n",
              "      <td>id0037205</td>\n",
              "      <td>$464.70</td>\n",
              "      <td>Agressivo</td>\n",
              "      <td>NaN</td>\n",
              "      <td>NaN</td>\n",
              "      <td>3655.41</td>\n",
              "      <td>13124.58</td>\n",
              "      <td>5579.33</td>\n",
              "      <td>2188.45</td>\n",
              "      <td>511.30</td>\n",
              "      <td>74.618662</td>\n",
              "      <td>80.220031</td>\n",
              "    </tr>\n",
              "    <tr>\n",
              "      <th>19998</th>\n",
              "      <td>id0010187</td>\n",
              "      <td>$940.72</td>\n",
              "      <td>Conservador</td>\n",
              "      <td>1416.94</td>\n",
              "      <td>4772.79</td>\n",
              "      <td>3049.52</td>\n",
              "      <td>21053.61</td>\n",
              "      <td>6532.92</td>\n",
              "      <td>NaN</td>\n",
              "      <td>486.77</td>\n",
              "      <td>2.464077</td>\n",
              "      <td>55.905051</td>\n",
              "    </tr>\n",
              "    <tr>\n",
              "      <th>19999</th>\n",
              "      <td>id0009375</td>\n",
              "      <td>$56.39</td>\n",
              "      <td>Moderado</td>\n",
              "      <td>812.14</td>\n",
              "      <td>5461.14</td>\n",
              "      <td>3455.45</td>\n",
              "      <td>28370.73</td>\n",
              "      <td>4468.04</td>\n",
              "      <td>NaN</td>\n",
              "      <td>509.97</td>\n",
              "      <td>8.931671</td>\n",
              "      <td>49.578415</td>\n",
              "    </tr>\n",
              "  </tbody>\n",
              "</table>\n",
              "<p>20000 rows × 12 columns</p>\n",
              "</div>"
            ],
            "text/plain": [
              "              id  Salario       Perfil  Ativo01  Ativo02  Ativo03   Ativo04  \\\n",
              "0      id0011529    $2.25    Agressivo  1311.38      NaN      NaN  29267.48   \n",
              "1      id0030644   $24.57    Agressivo  1007.38  4846.66  2717.82  12532.15   \n",
              "2      id0019311  $367.53     Moderado  1128.99  4668.94  3092.60   9777.77   \n",
              "3      id0036705   $23.26     Moderado  1185.26  4782.17  2669.05  14047.87   \n",
              "4      id0001368    $6.31  Conservador   957.64  5585.52      NaN   5067.08   \n",
              "...          ...      ...          ...      ...      ...      ...       ...   \n",
              "19995  id0027243  $334.62  Conservador  1406.60  5314.55  3166.72  22356.01   \n",
              "19996  id0027322  $281.18    Agressivo   857.37  6045.98  3052.01  11084.71   \n",
              "19997  id0037205  $464.70    Agressivo      NaN      NaN  3655.41  13124.58   \n",
              "19998  id0010187  $940.72  Conservador  1416.94  4772.79  3049.52  21053.61   \n",
              "19999  id0009375   $56.39     Moderado   812.14  5461.14  3455.45  28370.73   \n",
              "\n",
              "       Ativo05  Ativo06  Ativo07      Nota1      Nota2  \n",
              "0      4993.30      NaN   506.40  73.007216  30.025005  \n",
              "1      4282.98      NaN   499.93  20.000123  29.477728  \n",
              "2      4246.30  2007.83   509.50  24.901450  49.659852  \n",
              "3      6026.84  2064.09   489.82  14.246718  29.271206  \n",
              "4      4030.51  2022.61   507.39   5.922253  11.840601  \n",
              "...        ...      ...      ...        ...        ...  \n",
              "19995  4993.03      NaN   508.21        NaN  81.009106  \n",
              "19996  4678.42      NaN   506.94  48.641983        NaN  \n",
              "19997  5579.33  2188.45   511.30  74.618662  80.220031  \n",
              "19998  6532.92      NaN   486.77   2.464077  55.905051  \n",
              "19999  4468.04      NaN   509.97   8.931671  49.578415  \n",
              "\n",
              "[20000 rows x 12 columns]"
            ]
          },
          "execution_count": 14,
          "metadata": {},
          "output_type": "execute_result"
        }
      ],
      "source": [
        "df_investimento1"
      ]
    },
    {
      "cell_type": "markdown",
      "id": "dPERmd4oQGwC",
      "metadata": {
        "id": "dPERmd4oQGwC"
      },
      "source": [
        "###Verificando o arquivo investimento_parte2"
      ]
    },
    {
      "cell_type": "code",
      "execution_count": 15,
      "id": "5MoRsGHlQMTg",
      "metadata": {
        "colab": {
          "base_uri": "https://localhost:8080/"
        },
        "id": "5MoRsGHlQMTg",
        "outputId": "72685ffb-5d05-4d78-b6a2-3ca5381bb929"
      },
      "outputs": [
        {
          "name": "stdout",
          "output_type": "stream",
          "text": [
            "Quantidade de linhas do arquivo investimento parte 2: 24052\n"
          ]
        }
      ],
      "source": [
        "#Verificando quantidade de linhas do arquivo investimentos parte 2\n",
        "df_investimento2 = pd.read_csv('investimento_parte2.csv')\n",
        "print(f'Quantidade de linhas do arquivo investimento parte 2: {df_investimento2.shape[0]}')"
      ]
    },
    {
      "cell_type": "code",
      "execution_count": 16,
      "id": "rDLwBpGIQZfB",
      "metadata": {
        "colab": {
          "base_uri": "https://localhost:8080/"
        },
        "id": "rDLwBpGIQZfB",
        "outputId": "c2a391b5-156a-40aa-cd6e-8ad63ad23eab"
      },
      "outputs": [
        {
          "name": "stdout",
          "output_type": "stream",
          "text": [
            "Tipo de informações - Arquivo investimento_parte2: \n",
            "\n",
            "id          object\n",
            "Salario     object\n",
            "Perfil      object\n",
            "Ativo01    float64\n",
            "Ativo02    float64\n",
            "Ativo03    float64\n",
            "Ativo04    float64\n",
            "Ativo05    float64\n",
            "Ativo06    float64\n",
            "Ativo07    float64\n",
            "Nota1      float64\n",
            "Nota2      float64\n",
            "dtype: object\n"
          ]
        }
      ],
      "source": [
        "#verificando o tipo de informações do arquivo investimento parte2\n",
        "print('Tipo de informações - Arquivo investimento_parte2: \\n')\n",
        "print(df_investimento2.dtypes)"
      ]
    },
    {
      "cell_type": "code",
      "execution_count": 17,
      "id": "DuuYtKqPQeM-",
      "metadata": {
        "colab": {
          "base_uri": "https://localhost:8080/",
          "height": 0
        },
        "id": "DuuYtKqPQeM-",
        "outputId": "b2f4d9a2-9f63-46e9-bd6f-1542168a9a42"
      },
      "outputs": [
        {
          "data": {
            "text/html": [
              "<div>\n",
              "<style scoped>\n",
              "    .dataframe tbody tr th:only-of-type {\n",
              "        vertical-align: middle;\n",
              "    }\n",
              "\n",
              "    .dataframe tbody tr th {\n",
              "        vertical-align: top;\n",
              "    }\n",
              "\n",
              "    .dataframe thead th {\n",
              "        text-align: right;\n",
              "    }\n",
              "</style>\n",
              "<table border=\"1\" class=\"dataframe\">\n",
              "  <thead>\n",
              "    <tr style=\"text-align: right;\">\n",
              "      <th></th>\n",
              "      <th>id</th>\n",
              "      <th>Salario</th>\n",
              "      <th>Perfil</th>\n",
              "      <th>Ativo01</th>\n",
              "      <th>Ativo02</th>\n",
              "      <th>Ativo03</th>\n",
              "      <th>Ativo04</th>\n",
              "      <th>Ativo05</th>\n",
              "      <th>Ativo06</th>\n",
              "      <th>Ativo07</th>\n",
              "      <th>Nota1</th>\n",
              "      <th>Nota2</th>\n",
              "    </tr>\n",
              "  </thead>\n",
              "  <tbody>\n",
              "    <tr>\n",
              "      <th>0</th>\n",
              "      <td>id0000859</td>\n",
              "      <td>$51483.81</td>\n",
              "      <td>Agressivo</td>\n",
              "      <td>1273.95</td>\n",
              "      <td>5080.37</td>\n",
              "      <td>3565.44</td>\n",
              "      <td>NaN</td>\n",
              "      <td>5635.72</td>\n",
              "      <td>NaN</td>\n",
              "      <td>513.38</td>\n",
              "      <td>47.599278</td>\n",
              "      <td>7.057028</td>\n",
              "    </tr>\n",
              "    <tr>\n",
              "      <th>1</th>\n",
              "      <td>id0022202</td>\n",
              "      <td>$457.43</td>\n",
              "      <td>Conservador</td>\n",
              "      <td>1121.09</td>\n",
              "      <td>4927.51</td>\n",
              "      <td>3911.58</td>\n",
              "      <td>5511.70</td>\n",
              "      <td>5593.40</td>\n",
              "      <td>NaN</td>\n",
              "      <td>497.28</td>\n",
              "      <td>37.353757</td>\n",
              "      <td>61.516665</td>\n",
              "    </tr>\n",
              "    <tr>\n",
              "      <th>2</th>\n",
              "      <td>id0002056</td>\n",
              "      <td>$93245.46</td>\n",
              "      <td>Moderado</td>\n",
              "      <td>NaN</td>\n",
              "      <td>5283.71</td>\n",
              "      <td>2914.76</td>\n",
              "      <td>NaN</td>\n",
              "      <td>4707.33</td>\n",
              "      <td>NaN</td>\n",
              "      <td>499.06</td>\n",
              "      <td>98.895407</td>\n",
              "      <td>45.197866</td>\n",
              "    </tr>\n",
              "    <tr>\n",
              "      <th>3</th>\n",
              "      <td>id0005674</td>\n",
              "      <td>$3044.00</td>\n",
              "      <td>Agressivo</td>\n",
              "      <td>1353.76</td>\n",
              "      <td>5827.28</td>\n",
              "      <td>2998.24</td>\n",
              "      <td>16341.70</td>\n",
              "      <td>4712.65</td>\n",
              "      <td>2007.44</td>\n",
              "      <td>515.10</td>\n",
              "      <td>50.658089</td>\n",
              "      <td>65.660735</td>\n",
              "    </tr>\n",
              "    <tr>\n",
              "      <th>4</th>\n",
              "      <td>id0004777</td>\n",
              "      <td>$880.30</td>\n",
              "      <td>Agressivo</td>\n",
              "      <td>NaN</td>\n",
              "      <td>5695.77</td>\n",
              "      <td>3525.98</td>\n",
              "      <td>NaN</td>\n",
              "      <td>4147.29</td>\n",
              "      <td>NaN</td>\n",
              "      <td>506.77</td>\n",
              "      <td>72.993882</td>\n",
              "      <td>55.530580</td>\n",
              "    </tr>\n",
              "    <tr>\n",
              "      <th>...</th>\n",
              "      <td>...</td>\n",
              "      <td>...</td>\n",
              "      <td>...</td>\n",
              "      <td>...</td>\n",
              "      <td>...</td>\n",
              "      <td>...</td>\n",
              "      <td>...</td>\n",
              "      <td>...</td>\n",
              "      <td>...</td>\n",
              "      <td>...</td>\n",
              "      <td>...</td>\n",
              "      <td>...</td>\n",
              "    </tr>\n",
              "    <tr>\n",
              "      <th>24047</th>\n",
              "      <td>id0018222</td>\n",
              "      <td>$615.87</td>\n",
              "      <td>Conservador</td>\n",
              "      <td>933.65</td>\n",
              "      <td>5741.80</td>\n",
              "      <td>4031.59</td>\n",
              "      <td>6336.84</td>\n",
              "      <td>NaN</td>\n",
              "      <td>NaN</td>\n",
              "      <td>486.19</td>\n",
              "      <td>NaN</td>\n",
              "      <td>34.151046</td>\n",
              "    </tr>\n",
              "    <tr>\n",
              "      <th>24048</th>\n",
              "      <td>id0005515</td>\n",
              "      <td>$212.76</td>\n",
              "      <td>Conservador</td>\n",
              "      <td>1624.80</td>\n",
              "      <td>NaN</td>\n",
              "      <td>2689.68</td>\n",
              "      <td>21886.01</td>\n",
              "      <td>4571.79</td>\n",
              "      <td>NaN</td>\n",
              "      <td>497.47</td>\n",
              "      <td>93.032164</td>\n",
              "      <td>93.621515</td>\n",
              "    </tr>\n",
              "    <tr>\n",
              "      <th>24049</th>\n",
              "      <td>id0009893</td>\n",
              "      <td>$9.32</td>\n",
              "      <td>Agressivo</td>\n",
              "      <td>829.20</td>\n",
              "      <td>NaN</td>\n",
              "      <td>3831.45</td>\n",
              "      <td>NaN</td>\n",
              "      <td>4784.34</td>\n",
              "      <td>2143.79</td>\n",
              "      <td>485.33</td>\n",
              "      <td>3.120521</td>\n",
              "      <td>9.086454</td>\n",
              "    </tr>\n",
              "    <tr>\n",
              "      <th>24050</th>\n",
              "      <td>id0016100</td>\n",
              "      <td>$81796.74</td>\n",
              "      <td>Conservador</td>\n",
              "      <td>1587.47</td>\n",
              "      <td>4881.66</td>\n",
              "      <td>4352.03</td>\n",
              "      <td>10391.18</td>\n",
              "      <td>4695.44</td>\n",
              "      <td>2465.65</td>\n",
              "      <td>492.84</td>\n",
              "      <td>95.665966</td>\n",
              "      <td>30.164927</td>\n",
              "    </tr>\n",
              "    <tr>\n",
              "      <th>24051</th>\n",
              "      <td>id0027880</td>\n",
              "      <td>$38480.37</td>\n",
              "      <td>Agressivo</td>\n",
              "      <td>996.90</td>\n",
              "      <td>5604.43</td>\n",
              "      <td>2801.04</td>\n",
              "      <td>9183.62</td>\n",
              "      <td>6220.96</td>\n",
              "      <td>NaN</td>\n",
              "      <td>503.24</td>\n",
              "      <td>55.035639</td>\n",
              "      <td>57.691996</td>\n",
              "    </tr>\n",
              "  </tbody>\n",
              "</table>\n",
              "<p>24052 rows × 12 columns</p>\n",
              "</div>"
            ],
            "text/plain": [
              "              id    Salario       Perfil  Ativo01  Ativo02  Ativo03   Ativo04  \\\n",
              "0      id0000859  $51483.81    Agressivo  1273.95  5080.37  3565.44       NaN   \n",
              "1      id0022202    $457.43  Conservador  1121.09  4927.51  3911.58   5511.70   \n",
              "2      id0002056  $93245.46     Moderado      NaN  5283.71  2914.76       NaN   \n",
              "3      id0005674   $3044.00    Agressivo  1353.76  5827.28  2998.24  16341.70   \n",
              "4      id0004777    $880.30    Agressivo      NaN  5695.77  3525.98       NaN   \n",
              "...          ...        ...          ...      ...      ...      ...       ...   \n",
              "24047  id0018222    $615.87  Conservador   933.65  5741.80  4031.59   6336.84   \n",
              "24048  id0005515    $212.76  Conservador  1624.80      NaN  2689.68  21886.01   \n",
              "24049  id0009893      $9.32    Agressivo   829.20      NaN  3831.45       NaN   \n",
              "24050  id0016100  $81796.74  Conservador  1587.47  4881.66  4352.03  10391.18   \n",
              "24051  id0027880  $38480.37    Agressivo   996.90  5604.43  2801.04   9183.62   \n",
              "\n",
              "       Ativo05  Ativo06  Ativo07      Nota1      Nota2  \n",
              "0      5635.72      NaN   513.38  47.599278   7.057028  \n",
              "1      5593.40      NaN   497.28  37.353757  61.516665  \n",
              "2      4707.33      NaN   499.06  98.895407  45.197866  \n",
              "3      4712.65  2007.44   515.10  50.658089  65.660735  \n",
              "4      4147.29      NaN   506.77  72.993882  55.530580  \n",
              "...        ...      ...      ...        ...        ...  \n",
              "24047      NaN      NaN   486.19        NaN  34.151046  \n",
              "24048  4571.79      NaN   497.47  93.032164  93.621515  \n",
              "24049  4784.34  2143.79   485.33   3.120521   9.086454  \n",
              "24050  4695.44  2465.65   492.84  95.665966  30.164927  \n",
              "24051  6220.96      NaN   503.24  55.035639  57.691996  \n",
              "\n",
              "[24052 rows x 12 columns]"
            ]
          },
          "execution_count": 17,
          "metadata": {},
          "output_type": "execute_result"
        }
      ],
      "source": [
        "df_investimento2"
      ]
    },
    {
      "cell_type": "markdown",
      "id": "de88ae37",
      "metadata": {
        "id": "de88ae37"
      },
      "source": [
        "## 2 - Juntar os dataframes de investimento1 e investimento2 em um só e ver a quantidade de linhas"
      ]
    },
    {
      "cell_type": "code",
      "execution_count": 18,
      "id": "e2c363da",
      "metadata": {
        "colab": {
          "base_uri": "https://localhost:8080/",
          "height": 487
        },
        "id": "e2c363da",
        "outputId": "e07d8c1c-c81a-48ea-b476-424ce7688bf8"
      },
      "outputs": [
        {
          "name": "stderr",
          "output_type": "stream",
          "text": [
            "C:\\Users\\paulo\\AppData\\Local\\Temp\\ipykernel_21000\\287080442.py:2: FutureWarning: The frame.append method is deprecated and will be removed from pandas in a future version. Use pandas.concat instead.\n",
            "  df_investimento_total = df_investimento1.append(df_investimento2,ignore_index = True)\n"
          ]
        },
        {
          "data": {
            "text/html": [
              "<div>\n",
              "<style scoped>\n",
              "    .dataframe tbody tr th:only-of-type {\n",
              "        vertical-align: middle;\n",
              "    }\n",
              "\n",
              "    .dataframe tbody tr th {\n",
              "        vertical-align: top;\n",
              "    }\n",
              "\n",
              "    .dataframe thead th {\n",
              "        text-align: right;\n",
              "    }\n",
              "</style>\n",
              "<table border=\"1\" class=\"dataframe\">\n",
              "  <thead>\n",
              "    <tr style=\"text-align: right;\">\n",
              "      <th></th>\n",
              "      <th>id</th>\n",
              "      <th>Salario</th>\n",
              "      <th>Perfil</th>\n",
              "      <th>Ativo01</th>\n",
              "      <th>Ativo02</th>\n",
              "      <th>Ativo03</th>\n",
              "      <th>Ativo04</th>\n",
              "      <th>Ativo05</th>\n",
              "      <th>Ativo06</th>\n",
              "      <th>Ativo07</th>\n",
              "      <th>Nota1</th>\n",
              "      <th>Nota2</th>\n",
              "    </tr>\n",
              "  </thead>\n",
              "  <tbody>\n",
              "    <tr>\n",
              "      <th>0</th>\n",
              "      <td>id0011529</td>\n",
              "      <td>$2.25</td>\n",
              "      <td>Agressivo</td>\n",
              "      <td>1311.38</td>\n",
              "      <td>NaN</td>\n",
              "      <td>NaN</td>\n",
              "      <td>29267.48</td>\n",
              "      <td>4993.30</td>\n",
              "      <td>NaN</td>\n",
              "      <td>506.40</td>\n",
              "      <td>73.007216</td>\n",
              "      <td>30.025005</td>\n",
              "    </tr>\n",
              "    <tr>\n",
              "      <th>1</th>\n",
              "      <td>id0030644</td>\n",
              "      <td>$24.57</td>\n",
              "      <td>Agressivo</td>\n",
              "      <td>1007.38</td>\n",
              "      <td>4846.66</td>\n",
              "      <td>2717.82</td>\n",
              "      <td>12532.15</td>\n",
              "      <td>4282.98</td>\n",
              "      <td>NaN</td>\n",
              "      <td>499.93</td>\n",
              "      <td>20.000123</td>\n",
              "      <td>29.477728</td>\n",
              "    </tr>\n",
              "    <tr>\n",
              "      <th>2</th>\n",
              "      <td>id0019311</td>\n",
              "      <td>$367.53</td>\n",
              "      <td>Moderado</td>\n",
              "      <td>1128.99</td>\n",
              "      <td>4668.94</td>\n",
              "      <td>3092.60</td>\n",
              "      <td>9777.77</td>\n",
              "      <td>4246.30</td>\n",
              "      <td>2007.83</td>\n",
              "      <td>509.50</td>\n",
              "      <td>24.901450</td>\n",
              "      <td>49.659852</td>\n",
              "    </tr>\n",
              "    <tr>\n",
              "      <th>3</th>\n",
              "      <td>id0036705</td>\n",
              "      <td>$23.26</td>\n",
              "      <td>Moderado</td>\n",
              "      <td>1185.26</td>\n",
              "      <td>4782.17</td>\n",
              "      <td>2669.05</td>\n",
              "      <td>14047.87</td>\n",
              "      <td>6026.84</td>\n",
              "      <td>2064.09</td>\n",
              "      <td>489.82</td>\n",
              "      <td>14.246718</td>\n",
              "      <td>29.271206</td>\n",
              "    </tr>\n",
              "    <tr>\n",
              "      <th>4</th>\n",
              "      <td>id0001368</td>\n",
              "      <td>$6.31</td>\n",
              "      <td>Conservador</td>\n",
              "      <td>957.64</td>\n",
              "      <td>5585.52</td>\n",
              "      <td>NaN</td>\n",
              "      <td>5067.08</td>\n",
              "      <td>4030.51</td>\n",
              "      <td>2022.61</td>\n",
              "      <td>507.39</td>\n",
              "      <td>5.922253</td>\n",
              "      <td>11.840601</td>\n",
              "    </tr>\n",
              "    <tr>\n",
              "      <th>...</th>\n",
              "      <td>...</td>\n",
              "      <td>...</td>\n",
              "      <td>...</td>\n",
              "      <td>...</td>\n",
              "      <td>...</td>\n",
              "      <td>...</td>\n",
              "      <td>...</td>\n",
              "      <td>...</td>\n",
              "      <td>...</td>\n",
              "      <td>...</td>\n",
              "      <td>...</td>\n",
              "      <td>...</td>\n",
              "    </tr>\n",
              "    <tr>\n",
              "      <th>44047</th>\n",
              "      <td>id0018222</td>\n",
              "      <td>$615.87</td>\n",
              "      <td>Conservador</td>\n",
              "      <td>933.65</td>\n",
              "      <td>5741.80</td>\n",
              "      <td>4031.59</td>\n",
              "      <td>6336.84</td>\n",
              "      <td>NaN</td>\n",
              "      <td>NaN</td>\n",
              "      <td>486.19</td>\n",
              "      <td>NaN</td>\n",
              "      <td>34.151046</td>\n",
              "    </tr>\n",
              "    <tr>\n",
              "      <th>44048</th>\n",
              "      <td>id0005515</td>\n",
              "      <td>$212.76</td>\n",
              "      <td>Conservador</td>\n",
              "      <td>1624.80</td>\n",
              "      <td>NaN</td>\n",
              "      <td>2689.68</td>\n",
              "      <td>21886.01</td>\n",
              "      <td>4571.79</td>\n",
              "      <td>NaN</td>\n",
              "      <td>497.47</td>\n",
              "      <td>93.032164</td>\n",
              "      <td>93.621515</td>\n",
              "    </tr>\n",
              "    <tr>\n",
              "      <th>44049</th>\n",
              "      <td>id0009893</td>\n",
              "      <td>$9.32</td>\n",
              "      <td>Agressivo</td>\n",
              "      <td>829.20</td>\n",
              "      <td>NaN</td>\n",
              "      <td>3831.45</td>\n",
              "      <td>NaN</td>\n",
              "      <td>4784.34</td>\n",
              "      <td>2143.79</td>\n",
              "      <td>485.33</td>\n",
              "      <td>3.120521</td>\n",
              "      <td>9.086454</td>\n",
              "    </tr>\n",
              "    <tr>\n",
              "      <th>44050</th>\n",
              "      <td>id0016100</td>\n",
              "      <td>$81796.74</td>\n",
              "      <td>Conservador</td>\n",
              "      <td>1587.47</td>\n",
              "      <td>4881.66</td>\n",
              "      <td>4352.03</td>\n",
              "      <td>10391.18</td>\n",
              "      <td>4695.44</td>\n",
              "      <td>2465.65</td>\n",
              "      <td>492.84</td>\n",
              "      <td>95.665966</td>\n",
              "      <td>30.164927</td>\n",
              "    </tr>\n",
              "    <tr>\n",
              "      <th>44051</th>\n",
              "      <td>id0027880</td>\n",
              "      <td>$38480.37</td>\n",
              "      <td>Agressivo</td>\n",
              "      <td>996.90</td>\n",
              "      <td>5604.43</td>\n",
              "      <td>2801.04</td>\n",
              "      <td>9183.62</td>\n",
              "      <td>6220.96</td>\n",
              "      <td>NaN</td>\n",
              "      <td>503.24</td>\n",
              "      <td>55.035639</td>\n",
              "      <td>57.691996</td>\n",
              "    </tr>\n",
              "  </tbody>\n",
              "</table>\n",
              "<p>44052 rows × 12 columns</p>\n",
              "</div>"
            ],
            "text/plain": [
              "              id    Salario       Perfil  Ativo01  Ativo02  Ativo03   Ativo04  \\\n",
              "0      id0011529      $2.25    Agressivo  1311.38      NaN      NaN  29267.48   \n",
              "1      id0030644     $24.57    Agressivo  1007.38  4846.66  2717.82  12532.15   \n",
              "2      id0019311    $367.53     Moderado  1128.99  4668.94  3092.60   9777.77   \n",
              "3      id0036705     $23.26     Moderado  1185.26  4782.17  2669.05  14047.87   \n",
              "4      id0001368      $6.31  Conservador   957.64  5585.52      NaN   5067.08   \n",
              "...          ...        ...          ...      ...      ...      ...       ...   \n",
              "44047  id0018222    $615.87  Conservador   933.65  5741.80  4031.59   6336.84   \n",
              "44048  id0005515    $212.76  Conservador  1624.80      NaN  2689.68  21886.01   \n",
              "44049  id0009893      $9.32    Agressivo   829.20      NaN  3831.45       NaN   \n",
              "44050  id0016100  $81796.74  Conservador  1587.47  4881.66  4352.03  10391.18   \n",
              "44051  id0027880  $38480.37    Agressivo   996.90  5604.43  2801.04   9183.62   \n",
              "\n",
              "       Ativo05  Ativo06  Ativo07      Nota1      Nota2  \n",
              "0      4993.30      NaN   506.40  73.007216  30.025005  \n",
              "1      4282.98      NaN   499.93  20.000123  29.477728  \n",
              "2      4246.30  2007.83   509.50  24.901450  49.659852  \n",
              "3      6026.84  2064.09   489.82  14.246718  29.271206  \n",
              "4      4030.51  2022.61   507.39   5.922253  11.840601  \n",
              "...        ...      ...      ...        ...        ...  \n",
              "44047      NaN      NaN   486.19        NaN  34.151046  \n",
              "44048  4571.79      NaN   497.47  93.032164  93.621515  \n",
              "44049  4784.34  2143.79   485.33   3.120521   9.086454  \n",
              "44050  4695.44  2465.65   492.84  95.665966  30.164927  \n",
              "44051  6220.96      NaN   503.24  55.035639  57.691996  \n",
              "\n",
              "[44052 rows x 12 columns]"
            ]
          },
          "execution_count": 18,
          "metadata": {},
          "output_type": "execute_result"
        }
      ],
      "source": [
        "#juntando os dataframes\n",
        "df_investimento_total = df_investimento1.append(df_investimento2,ignore_index = True)\n",
        "df_investimento_total\n"
      ]
    },
    {
      "cell_type": "code",
      "execution_count": 19,
      "id": "aANHKuSih8Oz",
      "metadata": {
        "colab": {
          "base_uri": "https://localhost:8080/"
        },
        "id": "aANHKuSih8Oz",
        "outputId": "062dd071-f681-4ecc-b923-137b5ba2536d"
      },
      "outputs": [
        {
          "data": {
            "text/plain": [
              "id0006135    2\n",
              "id0027340    2\n",
              "id0036408    2\n",
              "id0038299    2\n",
              "id0032261    2\n",
              "            ..\n",
              "id0013431    1\n",
              "id0001498    1\n",
              "id0026743    1\n",
              "id0027752    1\n",
              "id0027880    1\n",
              "Name: id, Length: 38754, dtype: int64"
            ]
          },
          "execution_count": 19,
          "metadata": {},
          "output_type": "execute_result"
        }
      ],
      "source": [
        "#verificando valores repetidos\n",
        "df_investimento_total.id.value_counts()"
      ]
    },
    {
      "cell_type": "code",
      "execution_count": 20,
      "id": "gNSBHdsvffT6",
      "metadata": {
        "colab": {
          "base_uri": "https://localhost:8080/",
          "height": 176
        },
        "id": "gNSBHdsvffT6",
        "outputId": "d3410d4c-8422-43fa-97f2-7e9952d12c2d"
      },
      "outputs": [
        {
          "data": {
            "text/html": [
              "<div>\n",
              "<style scoped>\n",
              "    .dataframe tbody tr th:only-of-type {\n",
              "        vertical-align: middle;\n",
              "    }\n",
              "\n",
              "    .dataframe tbody tr th {\n",
              "        vertical-align: top;\n",
              "    }\n",
              "\n",
              "    .dataframe thead th {\n",
              "        text-align: right;\n",
              "    }\n",
              "</style>\n",
              "<table border=\"1\" class=\"dataframe\">\n",
              "  <thead>\n",
              "    <tr style=\"text-align: right;\">\n",
              "      <th></th>\n",
              "      <th>id</th>\n",
              "      <th>Salario</th>\n",
              "      <th>Perfil</th>\n",
              "      <th>Ativo01</th>\n",
              "      <th>Ativo02</th>\n",
              "      <th>Ativo03</th>\n",
              "      <th>Ativo04</th>\n",
              "      <th>Ativo05</th>\n",
              "      <th>Ativo06</th>\n",
              "      <th>Ativo07</th>\n",
              "      <th>Nota1</th>\n",
              "      <th>Nota2</th>\n",
              "    </tr>\n",
              "  </thead>\n",
              "  <tbody>\n",
              "    <tr>\n",
              "      <th>6825</th>\n",
              "      <td>id0032261</td>\n",
              "      <td>$36676.41</td>\n",
              "      <td>Agressivo</td>\n",
              "      <td>1254.65</td>\n",
              "      <td>5282.98</td>\n",
              "      <td>2841.62</td>\n",
              "      <td>8320.75</td>\n",
              "      <td>5095.01</td>\n",
              "      <td>NaN</td>\n",
              "      <td>516.02</td>\n",
              "      <td>68.811447</td>\n",
              "      <td>21.352064</td>\n",
              "    </tr>\n",
              "    <tr>\n",
              "      <th>20775</th>\n",
              "      <td>id0032261</td>\n",
              "      <td>$36676.41</td>\n",
              "      <td>Agressivo</td>\n",
              "      <td>1254.65</td>\n",
              "      <td>5282.98</td>\n",
              "      <td>2841.62</td>\n",
              "      <td>8320.75</td>\n",
              "      <td>5095.01</td>\n",
              "      <td>NaN</td>\n",
              "      <td>516.02</td>\n",
              "      <td>68.811447</td>\n",
              "      <td>21.352064</td>\n",
              "    </tr>\n",
              "  </tbody>\n",
              "</table>\n",
              "</div>"
            ],
            "text/plain": [
              "              id    Salario     Perfil  Ativo01  Ativo02  Ativo03  Ativo04  \\\n",
              "6825   id0032261  $36676.41  Agressivo  1254.65  5282.98  2841.62  8320.75   \n",
              "20775  id0032261  $36676.41  Agressivo  1254.65  5282.98  2841.62  8320.75   \n",
              "\n",
              "       Ativo05  Ativo06  Ativo07      Nota1      Nota2  \n",
              "6825   5095.01      NaN   516.02  68.811447  21.352064  \n",
              "20775  5095.01      NaN   516.02  68.811447  21.352064  "
            ]
          },
          "execution_count": 20,
          "metadata": {},
          "output_type": "execute_result"
        }
      ],
      "source": [
        "#analisando se os valores realmente são iguais\n",
        "repetido = df_investimento_total[df_investimento_total.id=='id0032261']\n",
        "repetido"
      ]
    },
    {
      "cell_type": "markdown",
      "id": "9a49fb0d",
      "metadata": {
        "id": "9a49fb0d"
      },
      "source": [
        "## 3 - Crie um novo dataframe eliminando as linhas duplicadas"
      ]
    },
    {
      "cell_type": "code",
      "execution_count": 21,
      "id": "mdDBR_1nXCdL",
      "metadata": {
        "colab": {
          "base_uri": "https://localhost:8080/",
          "height": 487
        },
        "id": "mdDBR_1nXCdL",
        "outputId": "9883126a-6ccd-4b0c-d5c0-7cbdce6af238"
      },
      "outputs": [
        {
          "data": {
            "text/html": [
              "<div>\n",
              "<style scoped>\n",
              "    .dataframe tbody tr th:only-of-type {\n",
              "        vertical-align: middle;\n",
              "    }\n",
              "\n",
              "    .dataframe tbody tr th {\n",
              "        vertical-align: top;\n",
              "    }\n",
              "\n",
              "    .dataframe thead th {\n",
              "        text-align: right;\n",
              "    }\n",
              "</style>\n",
              "<table border=\"1\" class=\"dataframe\">\n",
              "  <thead>\n",
              "    <tr style=\"text-align: right;\">\n",
              "      <th></th>\n",
              "      <th>id</th>\n",
              "      <th>Salario</th>\n",
              "      <th>Perfil</th>\n",
              "      <th>Ativo01</th>\n",
              "      <th>Ativo02</th>\n",
              "      <th>Ativo03</th>\n",
              "      <th>Ativo04</th>\n",
              "      <th>Ativo05</th>\n",
              "      <th>Ativo06</th>\n",
              "      <th>Ativo07</th>\n",
              "      <th>Nota1</th>\n",
              "      <th>Nota2</th>\n",
              "    </tr>\n",
              "  </thead>\n",
              "  <tbody>\n",
              "    <tr>\n",
              "      <th>0</th>\n",
              "      <td>id0011529</td>\n",
              "      <td>$2.25</td>\n",
              "      <td>Agressivo</td>\n",
              "      <td>1311.38</td>\n",
              "      <td>NaN</td>\n",
              "      <td>NaN</td>\n",
              "      <td>29267.48</td>\n",
              "      <td>4993.30</td>\n",
              "      <td>NaN</td>\n",
              "      <td>506.40</td>\n",
              "      <td>73.007216</td>\n",
              "      <td>30.025005</td>\n",
              "    </tr>\n",
              "    <tr>\n",
              "      <th>1</th>\n",
              "      <td>id0030644</td>\n",
              "      <td>$24.57</td>\n",
              "      <td>Agressivo</td>\n",
              "      <td>1007.38</td>\n",
              "      <td>4846.66</td>\n",
              "      <td>2717.82</td>\n",
              "      <td>12532.15</td>\n",
              "      <td>4282.98</td>\n",
              "      <td>NaN</td>\n",
              "      <td>499.93</td>\n",
              "      <td>20.000123</td>\n",
              "      <td>29.477728</td>\n",
              "    </tr>\n",
              "    <tr>\n",
              "      <th>2</th>\n",
              "      <td>id0019311</td>\n",
              "      <td>$367.53</td>\n",
              "      <td>Moderado</td>\n",
              "      <td>1128.99</td>\n",
              "      <td>4668.94</td>\n",
              "      <td>3092.60</td>\n",
              "      <td>9777.77</td>\n",
              "      <td>4246.30</td>\n",
              "      <td>2007.83</td>\n",
              "      <td>509.50</td>\n",
              "      <td>24.901450</td>\n",
              "      <td>49.659852</td>\n",
              "    </tr>\n",
              "    <tr>\n",
              "      <th>3</th>\n",
              "      <td>id0036705</td>\n",
              "      <td>$23.26</td>\n",
              "      <td>Moderado</td>\n",
              "      <td>1185.26</td>\n",
              "      <td>4782.17</td>\n",
              "      <td>2669.05</td>\n",
              "      <td>14047.87</td>\n",
              "      <td>6026.84</td>\n",
              "      <td>2064.09</td>\n",
              "      <td>489.82</td>\n",
              "      <td>14.246718</td>\n",
              "      <td>29.271206</td>\n",
              "    </tr>\n",
              "    <tr>\n",
              "      <th>4</th>\n",
              "      <td>id0001368</td>\n",
              "      <td>$6.31</td>\n",
              "      <td>Conservador</td>\n",
              "      <td>957.64</td>\n",
              "      <td>5585.52</td>\n",
              "      <td>NaN</td>\n",
              "      <td>5067.08</td>\n",
              "      <td>4030.51</td>\n",
              "      <td>2022.61</td>\n",
              "      <td>507.39</td>\n",
              "      <td>5.922253</td>\n",
              "      <td>11.840601</td>\n",
              "    </tr>\n",
              "    <tr>\n",
              "      <th>...</th>\n",
              "      <td>...</td>\n",
              "      <td>...</td>\n",
              "      <td>...</td>\n",
              "      <td>...</td>\n",
              "      <td>...</td>\n",
              "      <td>...</td>\n",
              "      <td>...</td>\n",
              "      <td>...</td>\n",
              "      <td>...</td>\n",
              "      <td>...</td>\n",
              "      <td>...</td>\n",
              "      <td>...</td>\n",
              "    </tr>\n",
              "    <tr>\n",
              "      <th>38749</th>\n",
              "      <td>id0012328</td>\n",
              "      <td>$86268.66</td>\n",
              "      <td>Moderado</td>\n",
              "      <td>804.92</td>\n",
              "      <td>4520.13</td>\n",
              "      <td>3388.55</td>\n",
              "      <td>18396.16</td>\n",
              "      <td>NaN</td>\n",
              "      <td>NaN</td>\n",
              "      <td>504.90</td>\n",
              "      <td>97.685833</td>\n",
              "      <td>70.195608</td>\n",
              "    </tr>\n",
              "    <tr>\n",
              "      <th>38750</th>\n",
              "      <td>id0005515</td>\n",
              "      <td>$212.76</td>\n",
              "      <td>Conservador</td>\n",
              "      <td>1624.80</td>\n",
              "      <td>NaN</td>\n",
              "      <td>2689.68</td>\n",
              "      <td>21886.01</td>\n",
              "      <td>4571.79</td>\n",
              "      <td>NaN</td>\n",
              "      <td>497.47</td>\n",
              "      <td>93.032164</td>\n",
              "      <td>93.621515</td>\n",
              "    </tr>\n",
              "    <tr>\n",
              "      <th>38751</th>\n",
              "      <td>id0009893</td>\n",
              "      <td>$9.32</td>\n",
              "      <td>Agressivo</td>\n",
              "      <td>829.20</td>\n",
              "      <td>NaN</td>\n",
              "      <td>3831.45</td>\n",
              "      <td>NaN</td>\n",
              "      <td>4784.34</td>\n",
              "      <td>2143.79</td>\n",
              "      <td>485.33</td>\n",
              "      <td>3.120521</td>\n",
              "      <td>9.086454</td>\n",
              "    </tr>\n",
              "    <tr>\n",
              "      <th>38752</th>\n",
              "      <td>id0016100</td>\n",
              "      <td>$81796.74</td>\n",
              "      <td>Conservador</td>\n",
              "      <td>1587.47</td>\n",
              "      <td>4881.66</td>\n",
              "      <td>4352.03</td>\n",
              "      <td>10391.18</td>\n",
              "      <td>4695.44</td>\n",
              "      <td>2465.65</td>\n",
              "      <td>492.84</td>\n",
              "      <td>95.665966</td>\n",
              "      <td>30.164927</td>\n",
              "    </tr>\n",
              "    <tr>\n",
              "      <th>38753</th>\n",
              "      <td>id0027880</td>\n",
              "      <td>$38480.37</td>\n",
              "      <td>Agressivo</td>\n",
              "      <td>996.90</td>\n",
              "      <td>5604.43</td>\n",
              "      <td>2801.04</td>\n",
              "      <td>9183.62</td>\n",
              "      <td>6220.96</td>\n",
              "      <td>NaN</td>\n",
              "      <td>503.24</td>\n",
              "      <td>55.035639</td>\n",
              "      <td>57.691996</td>\n",
              "    </tr>\n",
              "  </tbody>\n",
              "</table>\n",
              "<p>38754 rows × 12 columns</p>\n",
              "</div>"
            ],
            "text/plain": [
              "              id    Salario       Perfil  Ativo01  Ativo02  Ativo03   Ativo04  \\\n",
              "0      id0011529      $2.25    Agressivo  1311.38      NaN      NaN  29267.48   \n",
              "1      id0030644     $24.57    Agressivo  1007.38  4846.66  2717.82  12532.15   \n",
              "2      id0019311    $367.53     Moderado  1128.99  4668.94  3092.60   9777.77   \n",
              "3      id0036705     $23.26     Moderado  1185.26  4782.17  2669.05  14047.87   \n",
              "4      id0001368      $6.31  Conservador   957.64  5585.52      NaN   5067.08   \n",
              "...          ...        ...          ...      ...      ...      ...       ...   \n",
              "38749  id0012328  $86268.66     Moderado   804.92  4520.13  3388.55  18396.16   \n",
              "38750  id0005515    $212.76  Conservador  1624.80      NaN  2689.68  21886.01   \n",
              "38751  id0009893      $9.32    Agressivo   829.20      NaN  3831.45       NaN   \n",
              "38752  id0016100  $81796.74  Conservador  1587.47  4881.66  4352.03  10391.18   \n",
              "38753  id0027880  $38480.37    Agressivo   996.90  5604.43  2801.04   9183.62   \n",
              "\n",
              "       Ativo05  Ativo06  Ativo07      Nota1      Nota2  \n",
              "0      4993.30      NaN   506.40  73.007216  30.025005  \n",
              "1      4282.98      NaN   499.93  20.000123  29.477728  \n",
              "2      4246.30  2007.83   509.50  24.901450  49.659852  \n",
              "3      6026.84  2064.09   489.82  14.246718  29.271206  \n",
              "4      4030.51  2022.61   507.39   5.922253  11.840601  \n",
              "...        ...      ...      ...        ...        ...  \n",
              "38749      NaN      NaN   504.90  97.685833  70.195608  \n",
              "38750  4571.79      NaN   497.47  93.032164  93.621515  \n",
              "38751  4784.34  2143.79   485.33   3.120521   9.086454  \n",
              "38752  4695.44  2465.65   492.84  95.665966  30.164927  \n",
              "38753  6220.96      NaN   503.24  55.035639  57.691996  \n",
              "\n",
              "[38754 rows x 12 columns]"
            ]
          },
          "execution_count": 21,
          "metadata": {},
          "output_type": "execute_result"
        }
      ],
      "source": [
        "#Dropando linhas duplicadas\n",
        "df_investimento_total_sem_duplicadas = df_investimento_total.drop_duplicates(ignore_index=True)\n",
        "df_investimento_total_sem_duplicadas"
      ]
    },
    {
      "cell_type": "markdown",
      "id": "d5c4abc4",
      "metadata": {
        "id": "d5c4abc4"
      },
      "source": [
        "## 4 - Junte o dataframe de investimento com o de cadastro\n",
        "Dica: use a chave id"
      ]
    },
    {
      "cell_type": "code",
      "execution_count": 22,
      "id": "f21d58b4",
      "metadata": {
        "colab": {
          "base_uri": "https://localhost:8080/",
          "height": 263
        },
        "id": "f21d58b4",
        "outputId": "1e08694f-8275-47a4-de2e-0e75fa2a8e8a"
      },
      "outputs": [
        {
          "data": {
            "text/html": [
              "<div>\n",
              "<style scoped>\n",
              "    .dataframe tbody tr th:only-of-type {\n",
              "        vertical-align: middle;\n",
              "    }\n",
              "\n",
              "    .dataframe tbody tr th {\n",
              "        vertical-align: top;\n",
              "    }\n",
              "\n",
              "    .dataframe thead th {\n",
              "        text-align: right;\n",
              "    }\n",
              "</style>\n",
              "<table border=\"1\" class=\"dataframe\">\n",
              "  <thead>\n",
              "    <tr style=\"text-align: right;\">\n",
              "      <th></th>\n",
              "      <th>id</th>\n",
              "      <th>Nome</th>\n",
              "      <th>Sexo</th>\n",
              "      <th>Nasc</th>\n",
              "      <th>Idade</th>\n",
              "      <th>Email</th>\n",
              "      <th>Lat_long</th>\n",
              "      <th>Job</th>\n",
              "      <th>Estado</th>\n",
              "      <th>Salario</th>\n",
              "      <th>Perfil</th>\n",
              "      <th>Ativo01</th>\n",
              "      <th>Ativo02</th>\n",
              "      <th>Ativo03</th>\n",
              "      <th>Ativo04</th>\n",
              "      <th>Ativo05</th>\n",
              "      <th>Ativo06</th>\n",
              "      <th>Ativo07</th>\n",
              "      <th>Nota1</th>\n",
              "      <th>Nota2</th>\n",
              "    </tr>\n",
              "  </thead>\n",
              "  <tbody>\n",
              "    <tr>\n",
              "      <th>0</th>\n",
              "      <td>id0000001</td>\n",
              "      <td>Eunice Hellen do Vale</td>\n",
              "      <td>Fem</td>\n",
              "      <td>1970-11-12</td>\n",
              "      <td>51</td>\n",
              "      <td>djones@yahoo.com</td>\n",
              "      <td>(Decimal('24.7024355'), Decimal('-28.038258'))</td>\n",
              "      <td>Technical author</td>\n",
              "      <td>TO</td>\n",
              "      <td>$63.67</td>\n",
              "      <td>Moderado</td>\n",
              "      <td>1174.27</td>\n",
              "      <td>4980.98</td>\n",
              "      <td>2638.24</td>\n",
              "      <td>NaN</td>\n",
              "      <td>4480.91</td>\n",
              "      <td>2329.72</td>\n",
              "      <td>480.72</td>\n",
              "      <td>79.600372</td>\n",
              "      <td>9.802620</td>\n",
              "    </tr>\n",
              "    <tr>\n",
              "      <th>1</th>\n",
              "      <td>id0000002</td>\n",
              "      <td>Sebastião Castelo Branco Júnior</td>\n",
              "      <td>Masc</td>\n",
              "      <td>2019-12-10</td>\n",
              "      <td>2</td>\n",
              "      <td>barnesandrea@yahoo.com</td>\n",
              "      <td>(Decimal('21.8589875'), Decimal('122.830566'))</td>\n",
              "      <td>Biochemist, clinical</td>\n",
              "      <td>DF</td>\n",
              "      <td>$21.96</td>\n",
              "      <td>Moderado</td>\n",
              "      <td>842.12</td>\n",
              "      <td>5646.09</td>\n",
              "      <td>3336.07</td>\n",
              "      <td>NaN</td>\n",
              "      <td>5624.22</td>\n",
              "      <td>2669.98</td>\n",
              "      <td>504.17</td>\n",
              "      <td>44.406893</td>\n",
              "      <td>90.512871</td>\n",
              "    </tr>\n",
              "  </tbody>\n",
              "</table>\n",
              "</div>"
            ],
            "text/plain": [
              "          id                             Nome  Sexo        Nasc  Idade  \\\n",
              "0  id0000001            Eunice Hellen do Vale   Fem  1970-11-12     51   \n",
              "1  id0000002  Sebastião Castelo Branco Júnior  Masc  2019-12-10      2   \n",
              "\n",
              "                    Email                                        Lat_long  \\\n",
              "0        djones@yahoo.com  (Decimal('24.7024355'), Decimal('-28.038258'))   \n",
              "1  barnesandrea@yahoo.com  (Decimal('21.8589875'), Decimal('122.830566'))   \n",
              "\n",
              "                    Job Estado Salario    Perfil  Ativo01  Ativo02  Ativo03  \\\n",
              "0      Technical author     TO  $63.67  Moderado  1174.27  4980.98  2638.24   \n",
              "1  Biochemist, clinical     DF  $21.96  Moderado   842.12  5646.09  3336.07   \n",
              "\n",
              "   Ativo04  Ativo05  Ativo06  Ativo07      Nota1      Nota2  \n",
              "0      NaN  4480.91  2329.72   480.72  79.600372   9.802620  \n",
              "1      NaN  5624.22  2669.98   504.17  44.406893  90.512871  "
            ]
          },
          "execution_count": 22,
          "metadata": {},
          "output_type": "execute_result"
        }
      ],
      "source": [
        "#Juntando o dataFrame Cadastro com o de Ivenstimento_total_sem_duplicadas \n",
        "#usando Merge outer e chave 'id'\n",
        "\n",
        "df_cadastro_investimento = df_cadastro.merge(df_investimento_total_sem_duplicadas, how='outer', on='id')\n",
        "df_cadastro_investimento.head(2)"
      ]
    },
    {
      "cell_type": "markdown",
      "id": "0ce78c5c",
      "metadata": {
        "ExecuteTime": {
          "end_time": "2021-08-16T13:13:10.973171Z",
          "start_time": "2021-08-16T13:13:10.961165Z"
        },
        "id": "0ce78c5c"
      },
      "source": [
        "## 5 - Ordene o dataframe pelo id, de forma crescente e redefina o índice"
      ]
    },
    {
      "cell_type": "code",
      "execution_count": 23,
      "id": "4d97062c",
      "metadata": {
        "colab": {
          "base_uri": "https://localhost:8080/",
          "height": 939
        },
        "id": "4d97062c",
        "outputId": "48598e77-aacd-496a-d116-cc63dfe54ab0"
      },
      "outputs": [
        {
          "data": {
            "text/html": [
              "<div>\n",
              "<style scoped>\n",
              "    .dataframe tbody tr th:only-of-type {\n",
              "        vertical-align: middle;\n",
              "    }\n",
              "\n",
              "    .dataframe tbody tr th {\n",
              "        vertical-align: top;\n",
              "    }\n",
              "\n",
              "    .dataframe thead th {\n",
              "        text-align: right;\n",
              "    }\n",
              "</style>\n",
              "<table border=\"1\" class=\"dataframe\">\n",
              "  <thead>\n",
              "    <tr style=\"text-align: right;\">\n",
              "      <th></th>\n",
              "      <th>id</th>\n",
              "      <th>Nome</th>\n",
              "      <th>Sexo</th>\n",
              "      <th>Nasc</th>\n",
              "      <th>Idade</th>\n",
              "      <th>Email</th>\n",
              "      <th>Lat_long</th>\n",
              "      <th>Job</th>\n",
              "      <th>Estado</th>\n",
              "      <th>Salario</th>\n",
              "      <th>Perfil</th>\n",
              "      <th>Ativo01</th>\n",
              "      <th>Ativo02</th>\n",
              "      <th>Ativo03</th>\n",
              "      <th>Ativo04</th>\n",
              "      <th>Ativo05</th>\n",
              "      <th>Ativo06</th>\n",
              "      <th>Ativo07</th>\n",
              "      <th>Nota1</th>\n",
              "      <th>Nota2</th>\n",
              "    </tr>\n",
              "  </thead>\n",
              "  <tbody>\n",
              "    <tr>\n",
              "      <th>0</th>\n",
              "      <td>id0000001</td>\n",
              "      <td>Eunice Hellen do Vale</td>\n",
              "      <td>Fem</td>\n",
              "      <td>1970-11-12</td>\n",
              "      <td>51</td>\n",
              "      <td>djones@yahoo.com</td>\n",
              "      <td>(Decimal('24.7024355'), Decimal('-28.038258'))</td>\n",
              "      <td>Technical author</td>\n",
              "      <td>TO</td>\n",
              "      <td>$63.67</td>\n",
              "      <td>Moderado</td>\n",
              "      <td>1174.27</td>\n",
              "      <td>4980.98</td>\n",
              "      <td>2638.24</td>\n",
              "      <td>NaN</td>\n",
              "      <td>4480.91</td>\n",
              "      <td>2329.72</td>\n",
              "      <td>480.72</td>\n",
              "      <td>79.600372</td>\n",
              "      <td>9.802620</td>\n",
              "    </tr>\n",
              "    <tr>\n",
              "      <th>1</th>\n",
              "      <td>id0000002</td>\n",
              "      <td>Sebastião Castelo Branco Júnior</td>\n",
              "      <td>Masc</td>\n",
              "      <td>2019-12-10</td>\n",
              "      <td>2</td>\n",
              "      <td>barnesandrea@yahoo.com</td>\n",
              "      <td>(Decimal('21.8589875'), Decimal('122.830566'))</td>\n",
              "      <td>Biochemist, clinical</td>\n",
              "      <td>DF</td>\n",
              "      <td>$21.96</td>\n",
              "      <td>Moderado</td>\n",
              "      <td>842.12</td>\n",
              "      <td>5646.09</td>\n",
              "      <td>3336.07</td>\n",
              "      <td>NaN</td>\n",
              "      <td>5624.22</td>\n",
              "      <td>2669.98</td>\n",
              "      <td>504.17</td>\n",
              "      <td>44.406893</td>\n",
              "      <td>90.512871</td>\n",
              "    </tr>\n",
              "    <tr>\n",
              "      <th>2</th>\n",
              "      <td>id0000003</td>\n",
              "      <td>Romildo Fábio de Carvalho</td>\n",
              "      <td>Masc</td>\n",
              "      <td>2015-12-28</td>\n",
              "      <td>6</td>\n",
              "      <td>walkermichael@yahoo.com</td>\n",
              "      <td>(Decimal('-28.2161525'), Decimal('97.140529'))</td>\n",
              "      <td>Development worker, international aid</td>\n",
              "      <td>DF</td>\n",
              "      <td>$62497.64</td>\n",
              "      <td>Agressivo</td>\n",
              "      <td>818.81</td>\n",
              "      <td>5516.52</td>\n",
              "      <td>3396.64</td>\n",
              "      <td>NaN</td>\n",
              "      <td>5033.83</td>\n",
              "      <td>2229.45</td>\n",
              "      <td>523.12</td>\n",
              "      <td>44.020024</td>\n",
              "      <td>65.060941</td>\n",
              "    </tr>\n",
              "    <tr>\n",
              "      <th>3</th>\n",
              "      <td>id0000004</td>\n",
              "      <td>Lana Albina de Lemos Mumy</td>\n",
              "      <td>Fem</td>\n",
              "      <td>1993-05-03</td>\n",
              "      <td>28</td>\n",
              "      <td>cobbangela@hotmail.com</td>\n",
              "      <td>(Decimal('-40.8557635'), Decimal('-2.936099'))</td>\n",
              "      <td>Estate manager/land agent</td>\n",
              "      <td>DF</td>\n",
              "      <td>$99878.74</td>\n",
              "      <td>Agressivo</td>\n",
              "      <td>NaN</td>\n",
              "      <td>5258.69</td>\n",
              "      <td>3723.10</td>\n",
              "      <td>NaN</td>\n",
              "      <td>5933.91</td>\n",
              "      <td>NaN</td>\n",
              "      <td>486.05</td>\n",
              "      <td>25.597924</td>\n",
              "      <td>86.548918</td>\n",
              "    </tr>\n",
              "    <tr>\n",
              "      <th>4</th>\n",
              "      <td>id0000005</td>\n",
              "      <td>Rose Elisângela Vyrnium de Moura</td>\n",
              "      <td>Fem</td>\n",
              "      <td>1984-06-10</td>\n",
              "      <td>37</td>\n",
              "      <td>crawfordcraig@yahoo.com</td>\n",
              "      <td>(Decimal('-20.2620885'), Decimal('104.349223'))</td>\n",
              "      <td>Chartered public finance accountant</td>\n",
              "      <td>MS</td>\n",
              "      <td>$188.01</td>\n",
              "      <td>Conservador</td>\n",
              "      <td>1505.16</td>\n",
              "      <td>6415.30</td>\n",
              "      <td>3462.67</td>\n",
              "      <td>30841.35</td>\n",
              "      <td>6044.86</td>\n",
              "      <td>2198.89</td>\n",
              "      <td>512.98</td>\n",
              "      <td>14.463307</td>\n",
              "      <td>33.566292</td>\n",
              "    </tr>\n",
              "    <tr>\n",
              "      <th>...</th>\n",
              "      <td>...</td>\n",
              "      <td>...</td>\n",
              "      <td>...</td>\n",
              "      <td>...</td>\n",
              "      <td>...</td>\n",
              "      <td>...</td>\n",
              "      <td>...</td>\n",
              "      <td>...</td>\n",
              "      <td>...</td>\n",
              "      <td>...</td>\n",
              "      <td>...</td>\n",
              "      <td>...</td>\n",
              "      <td>...</td>\n",
              "      <td>...</td>\n",
              "      <td>...</td>\n",
              "      <td>...</td>\n",
              "      <td>...</td>\n",
              "      <td>...</td>\n",
              "      <td>...</td>\n",
              "      <td>...</td>\n",
              "    </tr>\n",
              "    <tr>\n",
              "      <th>38749</th>\n",
              "      <td>id0038750</td>\n",
              "      <td>Beatriz Maísa de Miranda Milani</td>\n",
              "      <td>Fem</td>\n",
              "      <td>1999-02-20</td>\n",
              "      <td>22</td>\n",
              "      <td>mark47@gmail.com</td>\n",
              "      <td>(Decimal('-23.8494875'), Decimal('-91.561304'))</td>\n",
              "      <td>Further education lecturer</td>\n",
              "      <td>RS</td>\n",
              "      <td>$4993.49</td>\n",
              "      <td>Moderado</td>\n",
              "      <td>1001.01</td>\n",
              "      <td>5561.55</td>\n",
              "      <td>NaN</td>\n",
              "      <td>8454.99</td>\n",
              "      <td>NaN</td>\n",
              "      <td>2191.78</td>\n",
              "      <td>489.76</td>\n",
              "      <td>66.644257</td>\n",
              "      <td>6.462871</td>\n",
              "    </tr>\n",
              "    <tr>\n",
              "      <th>38750</th>\n",
              "      <td>id0038751</td>\n",
              "      <td>Juan dos Santos</td>\n",
              "      <td>Masc</td>\n",
              "      <td>1999-07-10</td>\n",
              "      <td>22</td>\n",
              "      <td>greggnguyen@hotmail.com</td>\n",
              "      <td>(Decimal('-7.8876355'), Decimal('155.835880'))</td>\n",
              "      <td>Adult guidance worker</td>\n",
              "      <td>PI</td>\n",
              "      <td>$41218.63</td>\n",
              "      <td>Moderado</td>\n",
              "      <td>1532.51</td>\n",
              "      <td>5102.84</td>\n",
              "      <td>3097.50</td>\n",
              "      <td>11243.08</td>\n",
              "      <td>4692.11</td>\n",
              "      <td>2368.93</td>\n",
              "      <td>496.02</td>\n",
              "      <td>96.987294</td>\n",
              "      <td>72.333030</td>\n",
              "    </tr>\n",
              "    <tr>\n",
              "      <th>38751</th>\n",
              "      <td>id0038752</td>\n",
              "      <td>Severino Edson de Viana Loase</td>\n",
              "      <td>Masc</td>\n",
              "      <td>1981-12-01</td>\n",
              "      <td>40</td>\n",
              "      <td>cindy11@yahoo.com</td>\n",
              "      <td>(Decimal('-52.1338005'), Decimal('-59.715325'))</td>\n",
              "      <td>Arts development officer</td>\n",
              "      <td>PR</td>\n",
              "      <td>$32.41</td>\n",
              "      <td>Agressivo</td>\n",
              "      <td>1163.90</td>\n",
              "      <td>4911.63</td>\n",
              "      <td>3746.62</td>\n",
              "      <td>NaN</td>\n",
              "      <td>6733.79</td>\n",
              "      <td>2338.43</td>\n",
              "      <td>504.32</td>\n",
              "      <td>32.139610</td>\n",
              "      <td>22.742974</td>\n",
              "    </tr>\n",
              "    <tr>\n",
              "      <th>38752</th>\n",
              "      <td>id0038753</td>\n",
              "      <td>Kim Mooshi</td>\n",
              "      <td>Masc</td>\n",
              "      <td>1999-12-06</td>\n",
              "      <td>22</td>\n",
              "      <td>mcdonaldmario@gmail.com</td>\n",
              "      <td>(Decimal('-81.2874995'), Decimal('-28.805800'))</td>\n",
              "      <td>Production manager</td>\n",
              "      <td>RJ</td>\n",
              "      <td>$914.52</td>\n",
              "      <td>Conservador</td>\n",
              "      <td>NaN</td>\n",
              "      <td>5532.35</td>\n",
              "      <td>2861.32</td>\n",
              "      <td>NaN</td>\n",
              "      <td>4921.77</td>\n",
              "      <td>2024.00</td>\n",
              "      <td>500.65</td>\n",
              "      <td>98.385080</td>\n",
              "      <td>56.611838</td>\n",
              "    </tr>\n",
              "    <tr>\n",
              "      <th>38753</th>\n",
              "      <td>id0038754</td>\n",
              "      <td>Vinícius Arnaldo de Pereira Mendes</td>\n",
              "      <td>Masc</td>\n",
              "      <td>2003-09-13</td>\n",
              "      <td>18</td>\n",
              "      <td>omartinez@hotmail.com</td>\n",
              "      <td>(Decimal('-37.248521'), Decimal('6.033254'))</td>\n",
              "      <td>Pension scheme manager</td>\n",
              "      <td>AL</td>\n",
              "      <td>$29076.19</td>\n",
              "      <td>Moderado</td>\n",
              "      <td>981.62</td>\n",
              "      <td>4825.10</td>\n",
              "      <td>NaN</td>\n",
              "      <td>18085.88</td>\n",
              "      <td>5161.07</td>\n",
              "      <td>2257.66</td>\n",
              "      <td>507.95</td>\n",
              "      <td>29.660050</td>\n",
              "      <td>47.371606</td>\n",
              "    </tr>\n",
              "  </tbody>\n",
              "</table>\n",
              "<p>38754 rows × 20 columns</p>\n",
              "</div>"
            ],
            "text/plain": [
              "              id                                Nome  Sexo        Nasc  Idade  \\\n",
              "0      id0000001               Eunice Hellen do Vale   Fem  1970-11-12     51   \n",
              "1      id0000002     Sebastião Castelo Branco Júnior  Masc  2019-12-10      2   \n",
              "2      id0000003           Romildo Fábio de Carvalho  Masc  2015-12-28      6   \n",
              "3      id0000004           Lana Albina de Lemos Mumy   Fem  1993-05-03     28   \n",
              "4      id0000005    Rose Elisângela Vyrnium de Moura   Fem  1984-06-10     37   \n",
              "...          ...                                 ...   ...         ...    ...   \n",
              "38749  id0038750     Beatriz Maísa de Miranda Milani   Fem  1999-02-20     22   \n",
              "38750  id0038751                     Juan dos Santos  Masc  1999-07-10     22   \n",
              "38751  id0038752       Severino Edson de Viana Loase  Masc  1981-12-01     40   \n",
              "38752  id0038753                          Kim Mooshi  Masc  1999-12-06     22   \n",
              "38753  id0038754  Vinícius Arnaldo de Pereira Mendes  Masc  2003-09-13     18   \n",
              "\n",
              "                         Email  \\\n",
              "0             djones@yahoo.com   \n",
              "1       barnesandrea@yahoo.com   \n",
              "2      walkermichael@yahoo.com   \n",
              "3       cobbangela@hotmail.com   \n",
              "4      crawfordcraig@yahoo.com   \n",
              "...                        ...   \n",
              "38749         mark47@gmail.com   \n",
              "38750  greggnguyen@hotmail.com   \n",
              "38751        cindy11@yahoo.com   \n",
              "38752  mcdonaldmario@gmail.com   \n",
              "38753    omartinez@hotmail.com   \n",
              "\n",
              "                                              Lat_long  \\\n",
              "0       (Decimal('24.7024355'), Decimal('-28.038258'))   \n",
              "1       (Decimal('21.8589875'), Decimal('122.830566'))   \n",
              "2       (Decimal('-28.2161525'), Decimal('97.140529'))   \n",
              "3       (Decimal('-40.8557635'), Decimal('-2.936099'))   \n",
              "4      (Decimal('-20.2620885'), Decimal('104.349223'))   \n",
              "...                                                ...   \n",
              "38749  (Decimal('-23.8494875'), Decimal('-91.561304'))   \n",
              "38750   (Decimal('-7.8876355'), Decimal('155.835880'))   \n",
              "38751  (Decimal('-52.1338005'), Decimal('-59.715325'))   \n",
              "38752  (Decimal('-81.2874995'), Decimal('-28.805800'))   \n",
              "38753     (Decimal('-37.248521'), Decimal('6.033254'))   \n",
              "\n",
              "                                         Job Estado    Salario       Perfil  \\\n",
              "0                           Technical author     TO     $63.67     Moderado   \n",
              "1                       Biochemist, clinical     DF     $21.96     Moderado   \n",
              "2      Development worker, international aid     DF  $62497.64    Agressivo   \n",
              "3                  Estate manager/land agent     DF  $99878.74    Agressivo   \n",
              "4        Chartered public finance accountant     MS    $188.01  Conservador   \n",
              "...                                      ...    ...        ...          ...   \n",
              "38749             Further education lecturer     RS   $4993.49     Moderado   \n",
              "38750                  Adult guidance worker     PI  $41218.63     Moderado   \n",
              "38751               Arts development officer     PR     $32.41    Agressivo   \n",
              "38752                     Production manager     RJ    $914.52  Conservador   \n",
              "38753                 Pension scheme manager     AL  $29076.19     Moderado   \n",
              "\n",
              "       Ativo01  Ativo02  Ativo03   Ativo04  Ativo05  Ativo06  Ativo07  \\\n",
              "0      1174.27  4980.98  2638.24       NaN  4480.91  2329.72   480.72   \n",
              "1       842.12  5646.09  3336.07       NaN  5624.22  2669.98   504.17   \n",
              "2       818.81  5516.52  3396.64       NaN  5033.83  2229.45   523.12   \n",
              "3          NaN  5258.69  3723.10       NaN  5933.91      NaN   486.05   \n",
              "4      1505.16  6415.30  3462.67  30841.35  6044.86  2198.89   512.98   \n",
              "...        ...      ...      ...       ...      ...      ...      ...   \n",
              "38749  1001.01  5561.55      NaN   8454.99      NaN  2191.78   489.76   \n",
              "38750  1532.51  5102.84  3097.50  11243.08  4692.11  2368.93   496.02   \n",
              "38751  1163.90  4911.63  3746.62       NaN  6733.79  2338.43   504.32   \n",
              "38752      NaN  5532.35  2861.32       NaN  4921.77  2024.00   500.65   \n",
              "38753   981.62  4825.10      NaN  18085.88  5161.07  2257.66   507.95   \n",
              "\n",
              "           Nota1      Nota2  \n",
              "0      79.600372   9.802620  \n",
              "1      44.406893  90.512871  \n",
              "2      44.020024  65.060941  \n",
              "3      25.597924  86.548918  \n",
              "4      14.463307  33.566292  \n",
              "...          ...        ...  \n",
              "38749  66.644257   6.462871  \n",
              "38750  96.987294  72.333030  \n",
              "38751  32.139610  22.742974  \n",
              "38752  98.385080  56.611838  \n",
              "38753  29.660050  47.371606  \n",
              "\n",
              "[38754 rows x 20 columns]"
            ]
          },
          "execution_count": 23,
          "metadata": {},
          "output_type": "execute_result"
        }
      ],
      "source": [
        "#primeiro colocando o id como indice e depois ordenando pelo indice\n",
        "df_por_id = df_cadastro_investimento.set_index('id').sort_values('id')\n",
        "#resetando o indice\n",
        "df = df_por_id.reset_index() \n",
        "df"
      ]
    },
    {
      "cell_type": "markdown",
      "id": "c22a9a29",
      "metadata": {
        "id": "c22a9a29"
      },
      "source": [
        "## 6 - Faça uma análise dos dados faltantes e trate-os\n",
        "\n",
        "Mostre todas as colunas com dados faltantes, sua quantidade/porcentagem e como tratar (preencher) cada uma delas explicando sua estratégia"
      ]
    },
    {
      "cell_type": "code",
      "execution_count": 24,
      "id": "bg93qJ9ZlcTa",
      "metadata": {
        "colab": {
          "base_uri": "https://localhost:8080/"
        },
        "id": "bg93qJ9ZlcTa",
        "outputId": "b2592aeb-cc9a-4477-a2ac-48a4a387c0c7"
      },
      "outputs": [
        {
          "data": {
            "text/plain": [
              "id              0\n",
              "Nome            0\n",
              "Sexo            0\n",
              "Nasc            0\n",
              "Idade           0\n",
              "Email           0\n",
              "Lat_long        0\n",
              "Job             0\n",
              "Estado          0\n",
              "Salario         0\n",
              "Perfil          0\n",
              "Ativo01      9724\n",
              "Ativo02      6100\n",
              "Ativo03      6169\n",
              "Ativo04     11887\n",
              "Ativo05      6191\n",
              "Ativo06     19514\n",
              "Ativo07         0\n",
              "Nota1        3000\n",
              "Nota2        2000\n",
              "dtype: int64"
            ]
          },
          "execution_count": 24,
          "metadata": {},
          "output_type": "execute_result"
        }
      ],
      "source": [
        "#1) verificando se existem dados faltantes\n",
        "df.isnull().sum()"
      ]
    },
    {
      "cell_type": "code",
      "execution_count": 25,
      "id": "c4bb5d14",
      "metadata": {
        "colab": {
          "base_uri": "https://localhost:8080/"
        },
        "id": "c4bb5d14",
        "outputId": "0cc5875b-bf80-4168-ca4a-f4c13e8511f7"
      },
      "outputs": [
        {
          "data": {
            "text/plain": [
              "id          0\n",
              "Nome        0\n",
              "Sexo        0\n",
              "Nasc        0\n",
              "Idade       0\n",
              "Email       0\n",
              "Lat_long    0\n",
              "Job         0\n",
              "Estado      0\n",
              "Salario     0\n",
              "Perfil      0\n",
              "Ativo01     0\n",
              "Ativo02     0\n",
              "Ativo03     0\n",
              "Ativo04     0\n",
              "Ativo05     0\n",
              "Ativo06     0\n",
              "Ativo07     0\n",
              "Nota1       0\n",
              "Nota2       0\n",
              "dtype: int64"
            ]
          },
          "execution_count": 25,
          "metadata": {},
          "output_type": "execute_result"
        }
      ],
      "source": [
        "#2) observado que as colunas de ativos possuem dados faltantes\n",
        "#o que é justificado pois o cliente pode escolher qual ativo deseja\n",
        "# então nesse caso onde não houver alocação de recurso substituiremos por zero.\n",
        "\n",
        "df = df.copy()\n",
        "#aqui estou alterando cada item NaN nas colunas Ativos para 0.\n",
        "df[['Ativo01','Ativo02','Ativo03','Ativo04','Ativo05','Ativo06','Ativo07']] = df[['Ativo01','Ativo02','Ativo03','Ativo04','Ativo05','Ativo06','Ativo07']].fillna(0)\n",
        "#tratando os NaN das colunas notas 1 e 2 (trocar por media)\n",
        "df[['Nota1','Nota2']] = df[['Nota1','Nota2']].fillna(df[['Nota1','Nota2']].mean())\n",
        "#conferindo resultado\n",
        "df.isnull().sum()"
      ]
    },
    {
      "cell_type": "code",
      "execution_count": 26,
      "id": "k-3XaC6kWR6d",
      "metadata": {
        "colab": {
          "base_uri": "https://localhost:8080/"
        },
        "id": "k-3XaC6kWR6d",
        "outputId": "bfe5b2ea-54ad-40f2-ec73-d4b8ce51da54"
      },
      "outputs": [
        {
          "data": {
            "text/plain": [
              "id           object\n",
              "Nome         object\n",
              "Sexo         object\n",
              "Nasc         object\n",
              "Idade         int64\n",
              "Email        object\n",
              "Lat_long     object\n",
              "Job          object\n",
              "Estado       object\n",
              "Salario      object\n",
              "Perfil       object\n",
              "Ativo01     float64\n",
              "Ativo02     float64\n",
              "Ativo03     float64\n",
              "Ativo04     float64\n",
              "Ativo05     float64\n",
              "Ativo06     float64\n",
              "Ativo07     float64\n",
              "Nota1       float64\n",
              "Nota2       float64\n",
              "dtype: object"
            ]
          },
          "execution_count": 26,
          "metadata": {},
          "output_type": "execute_result"
        }
      ],
      "source": [
        "#3) alterando tipos de dados, mas antes vamos fazer um dtypes\n",
        "df.dtypes"
      ]
    },
    {
      "cell_type": "markdown",
      "id": "85ae4e81",
      "metadata": {
        "id": "85ae4e81"
      },
      "source": [
        "## 7 - Manipule os dados a seguir:\n",
        "\n"
      ]
    },
    {
      "cell_type": "code",
      "execution_count": 27,
      "id": "VyfDfpOFWV8e",
      "metadata": {
        "id": "VyfDfpOFWV8e"
      },
      "outputs": [],
      "source": [
        "#nasc pode mudar de string para datetime\n",
        "df['Nasc'] = pd.to_datetime(df['Nasc']) \n"
      ]
    },
    {
      "cell_type": "markdown",
      "id": "oFQHL3KOFKl6",
      "metadata": {
        "id": "oFQHL3KOFKl6"
      },
      "source": [
        "- Mudar o nome da coluna \"Salário\" para \"Renda\" e tratar a coluna (sem caracter $ e tipo numérica)"
      ]
    },
    {
      "cell_type": "code",
      "execution_count": 28,
      "id": "G1_wi0wZY0UG",
      "metadata": {
        "id": "G1_wi0wZY0UG"
      },
      "outputs": [],
      "source": [
        "#trocar o nome da coluna salário para Renda\n",
        "df = df.rename(columns={'Salario':'Renda'})"
      ]
    },
    {
      "cell_type": "code",
      "execution_count": 29,
      "id": "srZdwTdDECN1",
      "metadata": {
        "colab": {
          "base_uri": "https://localhost:8080/"
        },
        "id": "srZdwTdDECN1",
        "outputId": "82752648-a03c-4e4f-edc3-44b487904abf"
      },
      "outputs": [
        {
          "name": "stderr",
          "output_type": "stream",
          "text": [
            "C:\\Users\\paulo\\AppData\\Local\\Temp\\ipykernel_21000\\1835674501.py:2: FutureWarning: The default value of regex will change from True to False in a future version. In addition, single character regular expressions will *not* be treated as literal strings when regex=True.\n",
            "  df['Renda'] = df['Renda'].str.replace('$','')\n"
          ]
        },
        {
          "data": {
            "text/plain": [
              "0       63.67\n",
              "1       21.96\n",
              "2    62497.64\n",
              "Name: Renda, dtype: object"
            ]
          },
          "execution_count": 29,
          "metadata": {},
          "output_type": "execute_result"
        }
      ],
      "source": [
        "#tirar o $\n",
        "df['Renda'] = df['Renda'].str.replace('$','')\n",
        "df['Renda'].head(3)"
      ]
    },
    {
      "cell_type": "code",
      "execution_count": 30,
      "id": "i9K0KWzFh3HS",
      "metadata": {
        "colab": {
          "base_uri": "https://localhost:8080/"
        },
        "id": "i9K0KWzFh3HS",
        "outputId": "8c7ede09-23d2-4b5f-a1a8-e4e63c84bc3d"
      },
      "outputs": [
        {
          "data": {
            "text/plain": [
              "id                  object\n",
              "Nome                object\n",
              "Sexo                object\n",
              "Nasc        datetime64[ns]\n",
              "Idade                int64\n",
              "Email               object\n",
              "Lat_long            object\n",
              "Job                 object\n",
              "Estado              object\n",
              "Renda              float64\n",
              "Perfil              object\n",
              "Ativo01            float64\n",
              "Ativo02            float64\n",
              "Ativo03            float64\n",
              "Ativo04            float64\n",
              "Ativo05            float64\n",
              "Ativo06            float64\n",
              "Ativo07            float64\n",
              "Nota1              float64\n",
              "Nota2              float64\n",
              "dtype: object"
            ]
          },
          "execution_count": 30,
          "metadata": {},
          "output_type": "execute_result"
        }
      ],
      "source": [
        "#transformar em float\n",
        "df['Renda'] = df['Renda'].astype('float')\n",
        "df.dtypes\n"
      ]
    },
    {
      "cell_type": "markdown",
      "id": "C8867BzOFrxN",
      "metadata": {
        "id": "C8867BzOFrxN"
      },
      "source": [
        "- Criar coluna \"Total\" somando o valor de todos os ativos por investidor"
      ]
    },
    {
      "cell_type": "code",
      "execution_count": 31,
      "id": "0570d688",
      "metadata": {
        "colab": {
          "base_uri": "https://localhost:8080/"
        },
        "id": "0570d688",
        "outputId": "a3434cda-650c-44bc-8e4c-9908006bad10"
      },
      "outputs": [
        {
          "data": {
            "text/plain": [
              "0    16084.84\n",
              "1    18622.65\n",
              "2    17518.37\n",
              "Name: Total, dtype: float64"
            ]
          },
          "execution_count": 31,
          "metadata": {},
          "output_type": "execute_result"
        }
      ],
      "source": [
        "df['Total'] = df['Ativo01']+df['Ativo02']+df['Ativo03']+df['Ativo04']+df['Ativo05']+df['Ativo06']+df['Ativo07']\n",
        "df['Total'].head(3)"
      ]
    },
    {
      "cell_type": "markdown",
      "id": "0Ea2LqYEE49R",
      "metadata": {
        "id": "0Ea2LqYEE49R"
      },
      "source": [
        "- Criar coluna \"Media\" com a média das notas 1 e 2\n",
        "\n"
      ]
    },
    {
      "cell_type": "code",
      "execution_count": 32,
      "id": "ys6fsjDiEJLb",
      "metadata": {
        "colab": {
          "base_uri": "https://localhost:8080/"
        },
        "id": "ys6fsjDiEJLb",
        "outputId": "2b909c73-dfda-4659-f5e7-7bd53ddd4803"
      },
      "outputs": [
        {
          "data": {
            "text/plain": [
              "0    44.701496\n",
              "1    67.459882\n",
              "2    54.540483\n",
              "Name: Media, dtype: float64"
            ]
          },
          "execution_count": 32,
          "metadata": {},
          "output_type": "execute_result"
        }
      ],
      "source": [
        "df['Media'] = (df['Nota1']+df['Nota2'])/2\n",
        "df['Media'].head(3)"
      ]
    },
    {
      "cell_type": "markdown",
      "id": "6HuvQ17hE8QQ",
      "metadata": {
        "id": "6HuvQ17hE8QQ"
      },
      "source": [
        "- Criar coluna \"Dominio\" com apenas o domínio do email (dica: separar por @)\n"
      ]
    },
    {
      "cell_type": "code",
      "execution_count": 33,
      "id": "1TQpRtCMEJqH",
      "metadata": {
        "colab": {
          "base_uri": "https://localhost:8080/"
        },
        "id": "1TQpRtCMEJqH",
        "outputId": "be36989c-26b2-4aac-fb77-5f9df3ccf60a"
      },
      "outputs": [
        {
          "data": {
            "text/plain": [
              "0    yahoo.com\n",
              "1    yahoo.com\n",
              "2    yahoo.com\n",
              "Name: Dominio, dtype: object"
            ]
          },
          "execution_count": 33,
          "metadata": {},
          "output_type": "execute_result"
        }
      ],
      "source": [
        "df['Dominio'] = [i[1] for i in df['Email'].str.split('@')]\n",
        "df['Dominio'].head(3)"
      ]
    },
    {
      "cell_type": "markdown",
      "id": "S_8NGGFwE_mF",
      "metadata": {
        "id": "S_8NGGFwE_mF"
      },
      "source": [
        "\n",
        "- Mudar os dados da coluna \"Sexo\" para Masculino e Feminino (tente usar o map)\n"
      ]
    },
    {
      "cell_type": "code",
      "execution_count": 34,
      "id": "xrWOdEk4EJ-j",
      "metadata": {
        "id": "xrWOdEk4EJ-j"
      },
      "outputs": [],
      "source": [
        "#Função para trocar o termo conforme solicitado\n",
        "def trocar_termo(termo):\n",
        "  if termo == 'Fem':\n",
        "    return f'Feminino'\n",
        "  elif termo == 'Masc':\n",
        "    return f'Masculino'"
      ]
    },
    {
      "cell_type": "code",
      "execution_count": 35,
      "id": "NqIXU5d8EKTt",
      "metadata": {
        "id": "NqIXU5d8EKTt"
      },
      "outputs": [],
      "source": [
        "#usando map para a troca\n",
        "df['Sexo'] = list(map(trocar_termo,df['Sexo']))"
      ]
    },
    {
      "cell_type": "markdown",
      "id": "Iata02xgFPzP",
      "metadata": {
        "id": "Iata02xgFPzP"
      },
      "source": [
        "- Transformar os dados da coluna Media em inteiro\n"
      ]
    },
    {
      "cell_type": "code",
      "execution_count": 36,
      "id": "VlqM_zDbEKyl",
      "metadata": {
        "id": "VlqM_zDbEKyl"
      },
      "outputs": [],
      "source": [
        "df['Media'] = df['Media'].astype('int')"
      ]
    },
    {
      "cell_type": "markdown",
      "id": "MkhJrP02FSq_",
      "metadata": {
        "id": "MkhJrP02FSq_"
      },
      "source": [
        "- Criar coluna \"NPS\" onde o investidor é promotor se a média das notas é maior igual a 80, neutro se a média estiver entre 50 e 80, e detrator se for abaixo de 50"
      ]
    },
    {
      "cell_type": "code",
      "execution_count": 37,
      "id": "ESIwAHGzEbFo",
      "metadata": {
        "id": "ESIwAHGzEbFo"
      },
      "outputs": [],
      "source": [
        "#função para classificar o investidor\n",
        "def classifica_investidor(media):\n",
        "  if media >=80:\n",
        "    return f'Promotor'\n",
        "  elif media >= 50 and media < 80:\n",
        "    return f'Neutro'\n",
        "  else:\n",
        "    return f'Detrator'"
      ]
    },
    {
      "cell_type": "code",
      "execution_count": 38,
      "id": "skMuzpfpEbbj",
      "metadata": {
        "colab": {
          "base_uri": "https://localhost:8080/",
          "height": 376
        },
        "id": "skMuzpfpEbbj",
        "outputId": "64ae0ee7-bec0-44e3-c051-1118f93d8279"
      },
      "outputs": [
        {
          "data": {
            "text/html": [
              "<div>\n",
              "<style scoped>\n",
              "    .dataframe tbody tr th:only-of-type {\n",
              "        vertical-align: middle;\n",
              "    }\n",
              "\n",
              "    .dataframe tbody tr th {\n",
              "        vertical-align: top;\n",
              "    }\n",
              "\n",
              "    .dataframe thead th {\n",
              "        text-align: right;\n",
              "    }\n",
              "</style>\n",
              "<table border=\"1\" class=\"dataframe\">\n",
              "  <thead>\n",
              "    <tr style=\"text-align: right;\">\n",
              "      <th></th>\n",
              "      <th>id</th>\n",
              "      <th>Nome</th>\n",
              "      <th>Sexo</th>\n",
              "      <th>Nasc</th>\n",
              "      <th>Idade</th>\n",
              "      <th>Email</th>\n",
              "      <th>Lat_long</th>\n",
              "      <th>Job</th>\n",
              "      <th>Estado</th>\n",
              "      <th>Renda</th>\n",
              "      <th>...</th>\n",
              "      <th>Ativo04</th>\n",
              "      <th>Ativo05</th>\n",
              "      <th>Ativo06</th>\n",
              "      <th>Ativo07</th>\n",
              "      <th>Nota1</th>\n",
              "      <th>Nota2</th>\n",
              "      <th>Total</th>\n",
              "      <th>Media</th>\n",
              "      <th>Dominio</th>\n",
              "      <th>NPS</th>\n",
              "    </tr>\n",
              "  </thead>\n",
              "  <tbody>\n",
              "    <tr>\n",
              "      <th>0</th>\n",
              "      <td>id0000001</td>\n",
              "      <td>Eunice Hellen do Vale</td>\n",
              "      <td>Feminino</td>\n",
              "      <td>1970-11-12</td>\n",
              "      <td>51</td>\n",
              "      <td>djones@yahoo.com</td>\n",
              "      <td>(Decimal('24.7024355'), Decimal('-28.038258'))</td>\n",
              "      <td>Technical author</td>\n",
              "      <td>TO</td>\n",
              "      <td>63.67</td>\n",
              "      <td>...</td>\n",
              "      <td>0.0</td>\n",
              "      <td>4480.91</td>\n",
              "      <td>2329.72</td>\n",
              "      <td>480.72</td>\n",
              "      <td>79.600372</td>\n",
              "      <td>9.802620</td>\n",
              "      <td>16084.84</td>\n",
              "      <td>44</td>\n",
              "      <td>yahoo.com</td>\n",
              "      <td>Detrator</td>\n",
              "    </tr>\n",
              "    <tr>\n",
              "      <th>1</th>\n",
              "      <td>id0000002</td>\n",
              "      <td>Sebastião Castelo Branco Júnior</td>\n",
              "      <td>Masculino</td>\n",
              "      <td>2019-12-10</td>\n",
              "      <td>2</td>\n",
              "      <td>barnesandrea@yahoo.com</td>\n",
              "      <td>(Decimal('21.8589875'), Decimal('122.830566'))</td>\n",
              "      <td>Biochemist, clinical</td>\n",
              "      <td>DF</td>\n",
              "      <td>21.96</td>\n",
              "      <td>...</td>\n",
              "      <td>0.0</td>\n",
              "      <td>5624.22</td>\n",
              "      <td>2669.98</td>\n",
              "      <td>504.17</td>\n",
              "      <td>44.406893</td>\n",
              "      <td>90.512871</td>\n",
              "      <td>18622.65</td>\n",
              "      <td>67</td>\n",
              "      <td>yahoo.com</td>\n",
              "      <td>Neutro</td>\n",
              "    </tr>\n",
              "    <tr>\n",
              "      <th>2</th>\n",
              "      <td>id0000003</td>\n",
              "      <td>Romildo Fábio de Carvalho</td>\n",
              "      <td>Masculino</td>\n",
              "      <td>2015-12-28</td>\n",
              "      <td>6</td>\n",
              "      <td>walkermichael@yahoo.com</td>\n",
              "      <td>(Decimal('-28.2161525'), Decimal('97.140529'))</td>\n",
              "      <td>Development worker, international aid</td>\n",
              "      <td>DF</td>\n",
              "      <td>62497.64</td>\n",
              "      <td>...</td>\n",
              "      <td>0.0</td>\n",
              "      <td>5033.83</td>\n",
              "      <td>2229.45</td>\n",
              "      <td>523.12</td>\n",
              "      <td>44.020024</td>\n",
              "      <td>65.060941</td>\n",
              "      <td>17518.37</td>\n",
              "      <td>54</td>\n",
              "      <td>yahoo.com</td>\n",
              "      <td>Neutro</td>\n",
              "    </tr>\n",
              "  </tbody>\n",
              "</table>\n",
              "<p>3 rows × 24 columns</p>\n",
              "</div>"
            ],
            "text/plain": [
              "          id                             Nome       Sexo       Nasc  Idade  \\\n",
              "0  id0000001            Eunice Hellen do Vale   Feminino 1970-11-12     51   \n",
              "1  id0000002  Sebastião Castelo Branco Júnior  Masculino 2019-12-10      2   \n",
              "2  id0000003        Romildo Fábio de Carvalho  Masculino 2015-12-28      6   \n",
              "\n",
              "                     Email                                        Lat_long  \\\n",
              "0         djones@yahoo.com  (Decimal('24.7024355'), Decimal('-28.038258'))   \n",
              "1   barnesandrea@yahoo.com  (Decimal('21.8589875'), Decimal('122.830566'))   \n",
              "2  walkermichael@yahoo.com  (Decimal('-28.2161525'), Decimal('97.140529'))   \n",
              "\n",
              "                                     Job Estado     Renda  ... Ativo04  \\\n",
              "0                       Technical author     TO     63.67  ...     0.0   \n",
              "1                   Biochemist, clinical     DF     21.96  ...     0.0   \n",
              "2  Development worker, international aid     DF  62497.64  ...     0.0   \n",
              "\n",
              "   Ativo05  Ativo06  Ativo07      Nota1      Nota2     Total  Media  \\\n",
              "0  4480.91  2329.72   480.72  79.600372   9.802620  16084.84     44   \n",
              "1  5624.22  2669.98   504.17  44.406893  90.512871  18622.65     67   \n",
              "2  5033.83  2229.45   523.12  44.020024  65.060941  17518.37     54   \n",
              "\n",
              "     Dominio       NPS  \n",
              "0  yahoo.com  Detrator  \n",
              "1  yahoo.com    Neutro  \n",
              "2  yahoo.com    Neutro  \n",
              "\n",
              "[3 rows x 24 columns]"
            ]
          },
          "execution_count": 38,
          "metadata": {},
          "output_type": "execute_result"
        }
      ],
      "source": [
        "#criar a coluna NPS (promotor - media>=80, neutro - 50<=media<80, detrator-media<50)\n",
        "\n",
        "#usando map para preencher a coluna NPS \n",
        "df['NPS'] = list(map(classifica_investidor,df['Media']))\n",
        "\n",
        "df.head(3)"
      ]
    },
    {
      "cell_type": "markdown",
      "id": "767fc018",
      "metadata": {
        "id": "767fc018"
      },
      "source": [
        "## 8 - Calcule os seguintes dados\n",
        "- Calcule o total investido em cada coluna Ativo \n"
      ]
    },
    {
      "cell_type": "code",
      "execution_count": 39,
      "id": "992d886b",
      "metadata": {
        "colab": {
          "base_uri": "https://localhost:8080/"
        },
        "id": "992d886b",
        "outputId": "6dc28047-4579-4994-d024-e0fb53e3680e"
      },
      "outputs": [
        {
          "data": {
            "text/plain": [
              "Ativo01     R$ 32755689.89\n",
              "Ativo02    R$ 168079806.78\n",
              "Ativo03    R$ 102330550.86\n",
              "Ativo04    R$ 407133967.35\n",
              "Ativo05    R$ 172066821.10\n",
              "Ativo06     R$ 44626844.36\n",
              "Ativo07     R$ 19379032.72\n",
              "dtype: object"
            ]
          },
          "execution_count": 39,
          "metadata": {},
          "output_type": "execute_result"
        }
      ],
      "source": [
        "total_por_ativo = df[['Ativo01','Ativo02','Ativo03','Ativo04','Ativo05','Ativo06','Ativo07']].sum(axis=0)\n",
        "total_por_ativo.apply(lambda x: f'R$ {x:.2f}')"
      ]
    },
    {
      "cell_type": "markdown",
      "id": "m2L4SK8BDrs9",
      "metadata": {
        "id": "m2L4SK8BDrs9"
      },
      "source": [
        "- Qual o menor valor investido em cada ativo?\n"
      ]
    },
    {
      "cell_type": "code",
      "execution_count": 40,
      "id": "ytv-snYRpr3X",
      "metadata": {
        "colab": {
          "base_uri": "https://localhost:8080/"
        },
        "id": "ytv-snYRpr3X",
        "outputId": "c600ca8f-2603-4566-afc7-428ee7d51bc3"
      },
      "outputs": [
        {
          "data": {
            "text/plain": [
              "Ativo01     R$ 800.01\n",
              "Ativo02    R$ 4500.05\n",
              "Ativo03    R$ 2500.01\n",
              "Ativo04    R$ 5000.81\n",
              "Ativo05    R$ 4000.14\n",
              "Ativo06    R$ 2000.04\n",
              "Ativo07     R$ 462.93\n",
              "dtype: object"
            ]
          },
          "execution_count": 40,
          "metadata": {},
          "output_type": "execute_result"
        }
      ],
      "source": [
        "#desconsiderei o valor 0 pois o zero representa que não houve investimento\n",
        "\n",
        "ativos =['Ativo01','Ativo02','Ativo03','Ativo04','Ativo05','Ativo06','Ativo07']\n",
        "minimo_por_ativo = df[ativos][df[ativos]>0].min()\n",
        "minimo_por_ativo.apply(lambda x: f'R$ {x:.2f}')"
      ]
    },
    {
      "cell_type": "markdown",
      "id": "wUCpa8_aDuLd",
      "metadata": {
        "id": "wUCpa8_aDuLd"
      },
      "source": [
        "- Mostre a média e desvio padrão de cada ativo\n"
      ]
    },
    {
      "cell_type": "code",
      "execution_count": 41,
      "id": "mXWKOKeqrbjO",
      "metadata": {
        "colab": {
          "base_uri": "https://localhost:8080/",
          "height": 112
        },
        "id": "mXWKOKeqrbjO",
        "outputId": "c3a56030-0cdb-4cba-a438-0f2edd51d572"
      },
      "outputs": [
        {
          "data": {
            "text/html": [
              "<div>\n",
              "<style scoped>\n",
              "    .dataframe tbody tr th:only-of-type {\n",
              "        vertical-align: middle;\n",
              "    }\n",
              "\n",
              "    .dataframe tbody tr th {\n",
              "        vertical-align: top;\n",
              "    }\n",
              "\n",
              "    .dataframe thead th {\n",
              "        text-align: right;\n",
              "    }\n",
              "</style>\n",
              "<table border=\"1\" class=\"dataframe\">\n",
              "  <thead>\n",
              "    <tr style=\"text-align: right;\">\n",
              "      <th></th>\n",
              "      <th>Ativo01</th>\n",
              "      <th>Ativo02</th>\n",
              "      <th>Ativo03</th>\n",
              "      <th>Ativo04</th>\n",
              "      <th>Ativo05</th>\n",
              "      <th>Ativo06</th>\n",
              "      <th>Ativo07</th>\n",
              "    </tr>\n",
              "  </thead>\n",
              "  <tbody>\n",
              "    <tr>\n",
              "      <th>mean</th>\n",
              "      <td>845.220878</td>\n",
              "      <td>4337.095701</td>\n",
              "      <td>2640.515840</td>\n",
              "      <td>10505.598580</td>\n",
              "      <td>4439.975773</td>\n",
              "      <td>1151.541631</td>\n",
              "      <td>500.052452</td>\n",
              "    </tr>\n",
              "    <tr>\n",
              "      <th>std</th>\n",
              "      <td>524.568525</td>\n",
              "      <td>1909.955896</td>\n",
              "      <td>1204.864694</td>\n",
              "      <td>9084.714705</td>\n",
              "      <td>2068.665605</td>\n",
              "      <td>1172.059182</td>\n",
              "      <td>9.998218</td>\n",
              "    </tr>\n",
              "  </tbody>\n",
              "</table>\n",
              "</div>"
            ],
            "text/plain": [
              "         Ativo01      Ativo02      Ativo03       Ativo04      Ativo05  \\\n",
              "mean  845.220878  4337.095701  2640.515840  10505.598580  4439.975773   \n",
              "std   524.568525  1909.955896  1204.864694   9084.714705  2068.665605   \n",
              "\n",
              "          Ativo06     Ativo07  \n",
              "mean  1151.541631  500.052452  \n",
              "std   1172.059182    9.998218  "
            ]
          },
          "execution_count": 41,
          "metadata": {},
          "output_type": "execute_result"
        }
      ],
      "source": [
        "ativos =['Ativo01','Ativo02','Ativo03','Ativo04','Ativo05','Ativo06','Ativo07']\n",
        "media_e_desvPadrao_ativos = df[ativos].agg(['mean','std'])\n",
        "media_e_desvPadrao_ativos"
      ]
    },
    {
      "cell_type": "markdown",
      "id": "XXqGrJAfDw3j",
      "metadata": {
        "id": "XXqGrJAfDw3j"
      },
      "source": [
        "- Qual a idade do investidor mais velho?\n"
      ]
    },
    {
      "cell_type": "code",
      "execution_count": 42,
      "id": "axiKj34mstHg",
      "metadata": {
        "colab": {
          "base_uri": "https://localhost:8080/"
        },
        "id": "axiKj34mstHg",
        "outputId": "88fb810b-8429-4a1d-da31-0da3e0c8e93c"
      },
      "outputs": [
        {
          "name": "stdout",
          "output_type": "stream",
          "text": [
            "A idade dos 774 investidores mais velhos é 51\n"
          ]
        }
      ],
      "source": [
        "idade_maior = df['Idade'].max()\n",
        "qnt_idade_maior = df[df['Idade']==idade_maior].shape[0]\n",
        "print(f'A idade dos {qnt_idade_maior} investidores mais velhos é {idade_maior}')\n"
      ]
    },
    {
      "cell_type": "markdown",
      "id": "pOMVBHK1DzSG",
      "metadata": {
        "id": "pOMVBHK1DzSG"
      },
      "source": [
        "- Qual a mediana da coluna Média?"
      ]
    },
    {
      "cell_type": "code",
      "execution_count": 43,
      "id": "8ryXxBWHvGMw",
      "metadata": {
        "colab": {
          "base_uri": "https://localhost:8080/"
        },
        "id": "8ryXxBWHvGMw",
        "outputId": "e4a1c33a-7d2b-4172-9258-b6a0d67bc400"
      },
      "outputs": [
        {
          "name": "stdout",
          "output_type": "stream",
          "text": [
            "A mediana da coluna Média é 49.0\n"
          ]
        }
      ],
      "source": [
        "mediana_col_media = df['Media'].describe()['50%']\n",
        "print(f'A mediana da coluna Média é {mediana_col_media}')"
      ]
    },
    {
      "cell_type": "markdown",
      "id": "0f074caf",
      "metadata": {
        "id": "0f074caf"
      },
      "source": [
        "## 9 - Responder as perguntas abaixo\n",
        "\n",
        "- Quantos investidores são promotores?\n",
        "\n"
      ]
    },
    {
      "cell_type": "code",
      "execution_count": 44,
      "id": "520860bd",
      "metadata": {
        "colab": {
          "base_uri": "https://localhost:8080/"
        },
        "id": "520860bd",
        "outputId": "24897c1a-fef1-4925-b665-e0e450c5b566"
      },
      "outputs": [
        {
          "name": "stdout",
          "output_type": "stream",
          "text": [
            "Temos 2703 investidores que são promotores\n"
          ]
        }
      ],
      "source": [
        "qnt_promotor = df[df['NPS']=='Promotor'].shape[0]\n",
        "print(f'Temos {qnt_promotor} investidores que são promotores')"
      ]
    },
    {
      "cell_type": "markdown",
      "id": "qdGD4dte0rUV",
      "metadata": {
        "id": "qdGD4dte0rUV"
      },
      "source": [
        "- Quantos investidores são do sexo feminino?\n"
      ]
    },
    {
      "cell_type": "code",
      "execution_count": 45,
      "id": "Zpm5xFevyTLB",
      "metadata": {
        "colab": {
          "base_uri": "https://localhost:8080/"
        },
        "id": "Zpm5xFevyTLB",
        "outputId": "92150c00-f288-4e82-c5b6-c9ec395ee123"
      },
      "outputs": [
        {
          "name": "stdout",
          "output_type": "stream",
          "text": [
            "Temos 19385 investidores que são do sexo feminino\n"
          ]
        }
      ],
      "source": [
        "qnt_feminino = df[df['Sexo']=='Feminino'].shape[0]\n",
        "print(f'Temos {qnt_feminino} investidores que são do sexo feminino')"
      ]
    },
    {
      "cell_type": "markdown",
      "id": "EAbvuY7X0-vb",
      "metadata": {
        "id": "EAbvuY7X0-vb"
      },
      "source": [
        "- Quantos investidores investiram mais de 16000 no Ativo04?\n"
      ]
    },
    {
      "cell_type": "code",
      "execution_count": 46,
      "id": "77kVAMCfyrG_",
      "metadata": {
        "colab": {
          "base_uri": "https://localhost:8080/"
        },
        "id": "77kVAMCfyrG_",
        "outputId": "43aba60b-20d1-43ea-ea68-97696ff95b2c"
      },
      "outputs": [
        {
          "name": "stdout",
          "output_type": "stream",
          "text": [
            "Temos 10689 investidores que investiram mais de R$16.000,00 no ativo04\n"
          ]
        }
      ],
      "source": [
        "ativo04_16k = df[df['Ativo04']>16000].shape[0]\n",
        "print(f'Temos {ativo04_16k} investidores que investiram mais de R$16.000,00 no ativo04')"
      ]
    },
    {
      "cell_type": "markdown",
      "id": "5MHYrXAq1HUh",
      "metadata": {
        "id": "5MHYrXAq1HUh"
      },
      "source": [
        "- Quantos investidores investiram mais de 16000 no Ativo04 e menos de 5000 no Ativo05?\n"
      ]
    },
    {
      "cell_type": "code",
      "execution_count": 47,
      "id": "icMrbUmnzF8W",
      "metadata": {
        "colab": {
          "base_uri": "https://localhost:8080/"
        },
        "id": "icMrbUmnzF8W",
        "outputId": "08ae6e7b-3f8a-467b-ca02-b3756e7663d9"
      },
      "outputs": [
        {
          "name": "stdout",
          "output_type": "stream",
          "text": [
            "Temos 5374 investidores que investiram mais de R$16.000,00 no ativo04 e menos de R$5.000,00 no ativo05\n"
          ]
        }
      ],
      "source": [
        "masacara_mais16k = df['Ativo04']>16000 \n",
        "masacara_menos5k = df['Ativo05']<5000\n",
        "qnt_mais16k_menos5k = df[(masacara_mais16k)&(masacara_menos5k)].shape[0]\n",
        "qnt_mais16k_menos5k\n",
        "print(f'Temos {qnt_mais16k_menos5k} investidores que investiram mais de R$16.000,00 no ativo04\\\n",
        " e menos de R$5.000,00 no ativo05')"
      ]
    },
    {
      "cell_type": "markdown",
      "id": "rKTagDFkDMdg",
      "metadata": {
        "id": "rKTagDFkDMdg"
      },
      "source": [
        "- Quantos investidores do sexo feminino tem mais de 25 anos e investiu menos de 10000? (bonus: por que esse dado seria importante para a estratégia da nossa empresa?\n"
      ]
    },
    {
      "cell_type": "code",
      "execution_count": 48,
      "id": "P0Y2BAu20VRX",
      "metadata": {
        "colab": {
          "base_uri": "https://localhost:8080/"
        },
        "id": "P0Y2BAu20VRX",
        "outputId": "bf91018d-9da7-4d36-fd37-0cf7caccbe1c"
      },
      "outputs": [
        {
          "name": "stdout",
          "output_type": "stream",
          "text": [
            "Temos 442 investidores do sexo feminino com mais de 25 anos que investiram menos de R$10.000,00.\n",
            "A media de investimento das mulheres com 25 anos é R$24334.57 e total de mulheres nessa faixa é 9674.\n",
            "Considerando o total de mulheres com 25 anos, estamos falando de aproximadamente 5% na condição de \n",
            "investimento de menos de R$10.000.\n",
            "E ao analisar a Renda não foi conclusivo se elas teriam como aumentar o investimento.\n"
          ]
        }
      ],
      "source": [
        "mascara_fem_25 = (df['Idade']>25)&(df['Sexo']=='Feminino')\n",
        "mascara_menos_10k = df['Total']<10000\n",
        "qnt_fem25_menos10k = df[(mascara_fem_25)&(mascara_menos_10k)].shape[0]\n",
        "print(f'Temos {qnt_fem25_menos10k} investidores do sexo feminino com mais de 25 anos \\\n",
        "que investiram menos de R$10.000,00.')\n",
        "#resposta bonus: \n",
        "mascara_fem = df['Sexo']=='Feminino'\n",
        "media_fem25 = df['Total'][mascara_fem_25].describe()['mean']\n",
        "print(f'A media de investimento das mulheres com 25 anos é R${media_fem25:.2f} e total de mulheres nessa faixa é 9674.\\\n",
        "\\nConsiderando o total de mulheres com 25 anos, estamos falando de aproximadamente 5% na condição de \\ninvestimento de menos de R$10.000.\\\n",
        "\\nE ao analisar a Renda não foi conclusivo se elas teriam como aumentar o investimento.')\n"
      ]
    },
    {
      "cell_type": "markdown",
      "id": "RNAiuYlCDRIH",
      "metadata": {
        "id": "RNAiuYlCDRIH"
      },
      "source": [
        "\n",
        "- Quantos investidores tem em cada estado (dica: use groupby)\n"
      ]
    },
    {
      "cell_type": "code",
      "execution_count": 49,
      "id": "pAD-8k9Vt9YD",
      "metadata": {
        "colab": {
          "base_uri": "https://localhost:8080/"
        },
        "id": "pAD-8k9Vt9YD",
        "outputId": "98aa10be-e80a-453c-9485-2c13f26f24d3"
      },
      "outputs": [
        {
          "data": {
            "text/plain": [
              "Estado\n",
              "AC    1435\n",
              "AL    1376\n",
              "AM    1495\n",
              "AP    1438\n",
              "BA    1484\n",
              "CE    1465\n",
              "DF    1470\n",
              "ES    1472\n",
              "GO    1394\n",
              "MA    1454\n",
              "MG    1407\n",
              "MS    1436\n",
              "MT    1390\n",
              "PA    1421\n",
              "PB    1405\n",
              "PE    1477\n",
              "PI    1503\n",
              "PR    1371\n",
              "RJ    1466\n",
              "RN    1472\n",
              "RO    1440\n",
              "RR    1495\n",
              "RS    1393\n",
              "SC    1430\n",
              "SE    1319\n",
              "SP    1464\n",
              "TO    1382\n",
              "dtype: int64"
            ]
          },
          "execution_count": 49,
          "metadata": {},
          "output_type": "execute_result"
        }
      ],
      "source": [
        "qnt_investidores_estado = df.groupby('Estado').size()\n",
        "qnt_investidores_estado"
      ]
    },
    {
      "cell_type": "markdown",
      "id": "OfE6L7B0DT4i",
      "metadata": {
        "id": "OfE6L7B0DT4i"
      },
      "source": [
        "- Qual é a soma do total investido por cada estado?\n"
      ]
    },
    {
      "cell_type": "code",
      "execution_count": 50,
      "id": "qjNeEDA7ujSr",
      "metadata": {
        "colab": {
          "base_uri": "https://localhost:8080/"
        },
        "id": "qjNeEDA7ujSr",
        "outputId": "b9d14777-4ad9-4d96-97f5-c51283a52564"
      },
      "outputs": [
        {
          "data": {
            "text/plain": [
              "Estado\n",
              "AC    R$ 35362505.80\n",
              "AL    R$ 33763479.45\n",
              "AM    R$ 37036424.81\n",
              "AP    R$ 34996432.12\n",
              "BA    R$ 36188507.51\n",
              "CE    R$ 35959807.36\n",
              "DF    R$ 36277409.37\n",
              "ES    R$ 36112618.12\n",
              "GO    R$ 34234860.26\n",
              "MA    R$ 34952752.65\n",
              "MG    R$ 33820223.17\n",
              "MS    R$ 35279491.41\n",
              "MT    R$ 34206427.27\n",
              "PA    R$ 34877463.97\n",
              "PB    R$ 34248820.05\n",
              "PE    R$ 35353945.12\n",
              "PI    R$ 37038930.90\n",
              "PR    R$ 33002424.19\n",
              "RJ    R$ 35910946.83\n",
              "RN    R$ 35755623.32\n",
              "RO    R$ 34341430.55\n",
              "RR    R$ 36543504.21\n",
              "RS    R$ 34300026.29\n",
              "SC    R$ 35223280.67\n",
              "SE    R$ 32496697.65\n",
              "SP    R$ 35624582.45\n",
              "TO    R$ 33464097.56\n",
              "Name: Total, dtype: object"
            ]
          },
          "execution_count": 50,
          "metadata": {},
          "output_type": "execute_result"
        }
      ],
      "source": [
        "total_estado = df.groupby('Estado').Total.sum()\n",
        "total_estado.apply(lambda x: f'R$ {x:.2f}')"
      ]
    },
    {
      "cell_type": "markdown",
      "id": "hd37_JkYDWiX",
      "metadata": {
        "id": "hd37_JkYDWiX"
      },
      "source": [
        "- Como os investidores se distribuem em promotores, detratores e neutros?\n"
      ]
    },
    {
      "cell_type": "code",
      "execution_count": 51,
      "id": "R0lwemMMxU5z",
      "metadata": {
        "colab": {
          "base_uri": "https://localhost:8080/"
        },
        "id": "R0lwemMMxU5z",
        "outputId": "f667318d-900d-44a8-f4e3-c358af2c791b"
      },
      "outputs": [
        {
          "data": {
            "text/plain": [
              "NPS\n",
              "Detrator    50.62%\n",
              "Neutro      42.41%\n",
              "Promotor     6.97%\n",
              "dtype: object"
            ]
          },
          "execution_count": 51,
          "metadata": {},
          "output_type": "execute_result"
        }
      ],
      "source": [
        "#para responder primeiro achamos através do groupby a quantidade de investidores\n",
        "#em cada NPS. \n",
        "investidores_total = df.groupby('NPS').size()\n",
        "#depois dividimos pelo total de investidores\n",
        "investidores_NPS_total = investidores_total/df.shape[0]\n",
        "#agora para melhorar a visualização colocamos em percentual\n",
        "investidores_NPS_total.apply(lambda x: f'{x*100:.2f}%')"
      ]
    },
    {
      "cell_type": "markdown",
      "id": "PU-84_rQDZao",
      "metadata": {
        "id": "PU-84_rQDZao"
      },
      "source": [
        "- Qual é a média do total investido por promotores, detratores e neutros?"
      ]
    },
    {
      "cell_type": "code",
      "execution_count": 52,
      "id": "iZ6XfELAzZ90",
      "metadata": {
        "colab": {
          "base_uri": "https://localhost:8080/"
        },
        "id": "iZ6XfELAzZ90",
        "outputId": "4502bb9f-501b-4cc3-9612-62169b0f4ad5"
      },
      "outputs": [
        {
          "data": {
            "text/plain": [
              "NPS\n",
              "Detrator    R$ 478438171.23\n",
              "Neutro      R$ 401860029.58\n",
              "Promotor     R$ 66074512.25\n",
              "Name: Total, dtype: object"
            ]
          },
          "execution_count": 52,
          "metadata": {},
          "output_type": "execute_result"
        }
      ],
      "source": [
        "#usando groupby selecionamos NPS e depois Total e aplicamos a soma ao Total\n",
        "total_investido_NPS = df.groupby('NPS').Total.sum()\n",
        "#para melhorar a visualização tiramos da notação científica.\n",
        "total_investido_NPS.apply(lambda x: f'R$ {x:.2f}')"
      ]
    }
  ],
  "metadata": {
    "colab": {
      "provenance": []
    },
    "kernelspec": {
      "display_name": "Python 3.10.7 64-bit",
      "language": "python",
      "name": "python3"
    },
    "language_info": {
      "codemirror_mode": {
        "name": "ipython",
        "version": 3
      },
      "file_extension": ".py",
      "mimetype": "text/x-python",
      "name": "python",
      "nbconvert_exporter": "python",
      "pygments_lexer": "ipython3",
      "version": "3.10.7"
    },
    "varInspector": {
      "cols": {
        "lenName": 16,
        "lenType": 16,
        "lenVar": 40
      },
      "kernels_config": {
        "python": {
          "delete_cmd_postfix": "",
          "delete_cmd_prefix": "del ",
          "library": "var_list.py",
          "varRefreshCmd": "print(var_dic_list())"
        },
        "r": {
          "delete_cmd_postfix": ") ",
          "delete_cmd_prefix": "rm(",
          "library": "var_list.r",
          "varRefreshCmd": "cat(var_dic_list()) "
        }
      },
      "types_to_exclude": [
        "module",
        "function",
        "builtin_function_or_method",
        "instance",
        "_Feature"
      ],
      "window_display": false
    },
    "vscode": {
      "interpreter": {
        "hash": "f42f955e7f8da3c548e302e1e5347a7e875359e0d4da102c4592ccaca30f562a"
      }
    }
  },
  "nbformat": 4,
  "nbformat_minor": 5
}
